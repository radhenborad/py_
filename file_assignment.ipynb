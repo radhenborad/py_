{
  "nbformat": 4,
  "nbformat_minor": 0,
  "metadata": {
    "colab": {
      "provenance": []
    },
    "kernelspec": {
      "name": "python3",
      "display_name": "Python 3"
    },
    "language_info": {
      "name": "python"
    }
  },
  "cells": [
    {
      "cell_type": "code",
      "source": [
        "# # Differences between Interpreted and Compiled Languages\n",
        "\n",
        "# 1. **Interpreted vs Compiled Languages:**\n",
        "#    - **Interpreted languages** are executed line-by-line by an interpreter at runtime (e.g., Python, JavaScript).\n",
        "#    - **Compiled languages** are translated into machine code by a compiler before execution (e.g., C, C++). Compiled languages tend to be faster, while interpreted languages are more flexible and easier to debug.\n",
        "\n",
        "# # Exception Handling in Python\n",
        "\n",
        "# 2. **Exception Handling in Python:**\n",
        "#    - Exception handling allows you to catch and handle errors that occur during program execution. In Python, you use `try`, `except`, `else`, and `finally` blocks to manage exceptions.\n",
        "\n",
        "# # Purpose of the finally block\n",
        "\n",
        "# 3. **Purpose of the finally block:**\n",
        "#    - The `finally` block is used to define clean-up actions that must be executed, whether or not an exception is raised, such as closing files or releasing resources.\n",
        "\n",
        "# # Logging in Python\n",
        "# # Significance of __del__ method\n",
        "\n",
        "# 5. **Significance of __del__ method:**\n",
        "#    - The `__del__` method is a destructor in Python, called when an object is about to be destroyed. It's useful for cleaning up resources, but its use is generally discouraged in favor of context managers and explicit resource management.\n",
        "\n",
        "# # Difference between import and from ... import in Python\n",
        "\n",
        "# 6. **Difference between import and from ... import in Python:**\n",
        "#    - `import module`: imports the whole module and requires `module.function` to access functions.\n",
        "#    - `from module import function`: imports specific functions or variables from the module directly, so you can use them without the module prefix.\n",
        "\n",
        "# # Handling Multiple Exceptions\n",
        "\n",
        "# 7. **Handling Multiple Exceptions:**\n",
        "#    - You can handle multiple exceptions using multiple `except` clauses or by specifying a tuple of exceptions (e.g., `except (TypeError, ValueError) as e`).\n",
        "\n",
        "# # Purpose of the with statement in file handling\n",
        "\n",
        "# 8. **Purpose of the with statement in file handling:**\n",
        "#    - The `with` statement simplifies file handling by automatically closing the file when the block of code is done, even if an error occurs.\n",
        "\n",
        "# # Difference between multithreading and multiprocessing\n",
        "\n",
        "# 9. **Difference between multithreading and multiprocessing:**\n",
        "#    - **Multithreading** runs tasks concurrently in a single process and is useful for I/O-bound tasks.\n",
        "#    - **Multiprocessing** runs tasks in separate processes and is suitable for CPU-bound tasks.\n",
        "\n",
        "# # Advantages of using logging\n",
        "\n",
        "# 10. **Advantages of using logging:**\n",
        "#    - It provides a flexible way to track events, warnings, and errors, which helps in debugging and understanding the flow of the program.\n",
        "\n",
        "# # Memory Management in Python\n",
        "\n",
        "# 11. **Memory Management in Python:**\n",
        "#    - Python uses automatic memory management, relying on a garbage collector to handle unused objects. However, developers must manage memory effectively to avoid memory leaks.\n",
        "\n",
        "# # Basic Steps in Exception Handling\n",
        "\n",
        "# 12. **Basic Steps in Exception Handling:**\n",
        "#    - Use `try` to execute code that might raise an exception.\n",
        "#    - Use `except` to handle specific exceptions.\n",
        "#    - Optionally, use `else` if no exceptions are raised.\n",
        "#    - Use `finally` to clean up resources.\n",
        "\n",
        "# # Importance of Memory Management\n",
        "\n",
        "# 13. **Importance of Memory Management:**\n",
        "#    - Efficient memory management ensures that a program doesn't consume excessive resources, preventing memory leaks and improving performance.\n",
        "\n",
        "# # Role of try and except\n",
        "\n",
        "# 14. **Role of try and except:**\n",
        "#    - `try` attempts to execute code that may raise an exception.\n",
        "#    - `except` catches and handles the exception, preventing the program from crashing.\n",
        "\n",
        "# # Garbage Collection System\n",
        "\n",
        "# 15. **Garbage Collection System:**\n",
        "#    - Python’s garbage collector automatically detects and removes unused objects from memory, using reference counting and cyclic garbage collection.\n",
        "\n",
        "# # Purpose of the else block\n",
        "\n",
        "# 16. **Purpose of the else block:**\n",
        "#    - The `else` block is executed if no exceptions are raised in the `try` block, which can be useful for code that should run when everything goes well.\n",
        "\n",
        "# # Common Logging Levels\n",
        "\n",
        "# 17. **Common Logging Levels:**\n",
        "#    - `DEBUG`, `INFO`, `WARNING`, `ERROR`, `CRITICAL`.\n",
        "\n",
        "# # Difference between os.fork() and multiprocessing\n",
        "\n",
        "# 18. **Difference between os.fork() and multiprocessing:**\n",
        "#    - `os.fork()` creates a child process in Unix-like systems, while `multiprocessing` is a Python module for creating separate processes in a cross-platform manner.\n",
        "\n",
        "# # Importance of Closing a File\n",
        "\n",
        "# 19. **Importance of Closing a File:**\n",
        "#    - Closing a file ensures that all data is written to disk and that resources are freed. Failure to close files can lead to memory leaks and other issues.\n",
        "\n",
        "# # Difference between file.read() and file.readline()\n",
        "\n",
        "# 20. **Difference between file.read() and file.readline():**\n",
        "#    - `file.read()` reads the entire file as a single string, while `file.readline()` reads one line at a time.\n",
        "\n",
        "# # Logging Module in Python\n",
        "\n",
        "# 21. **Logging Module in Python:**\n",
        "#    - The `logging` module provides a flexible framework for adding logging to your programs, supporting different logging levels, output formats, and destinations.\n",
        "\n",
        "# # os Module in File Handling\n",
        "\n",
        "# 22. **os Module in File Handling:**\n",
        "#    - The `os` module provides functions to interact with the operating system, including file manipulation (e.g., creating, deleting, renaming files).\n",
        "\n",
        "# # Challenges in Memory Management\n",
        "\n",
        "# 23. **Challenges in Memory Management:**\n",
        "#    - Python's automatic memory management can sometimes cause performance issues, particularly with large datasets or cyclic references.\n",
        "\n",
        "# # Raising an Exception Manually\n",
        "\n",
        "# 24. **Raising an Exception Manually:**\n",
        "#    - Use the `raise` keyword to raise an exception explicitly, e.g., `raise ValueError(\"Invalid input\")`.\n",
        "\n",
        "# # Importance of Multithreading in Certain Applications\n",
        "\n",
        "# 25. **Importance of Multithreading in Certain Applications:**\n",
        "#    - Multithreading allows concurrent execution, improving the performance of I/O-bound tasks, like web scraping or handling multiple user requests in web servers.\n"
      ],
      "metadata": {
        "id": "zDzLJEBPSKSC"
      },
      "execution_count": null,
      "outputs": []
    },
    {
      "cell_type": "code",
      "execution_count": null,
      "metadata": {
        "id": "V3HLwinb2te5"
      },
      "outputs": [],
      "source": [
        "# 1  How can you open a file for writing in Python and write a string to it.\n",
        "file = open(\"radhen.txt\",'w')\n",
        "\n",
        "file.write(\"hellow world  \")\n",
        "\n",
        "file.close()"
      ]
    },
    {
      "cell_type": "code",
      "source": [
        "#2  Write a Python program to read the contents of a file and print each line\n",
        "\n",
        "file1 = open(\"radhen.txt\",'r')\n",
        "print(file1.read())\n",
        "file1.close()"
      ],
      "metadata": {
        "colab": {
          "base_uri": "https://localhost:8080/"
        },
        "id": "T7_7UfJX4YJq",
        "outputId": "822c7e5f-3a3f-45a4-b4e4-c564f670962c"
      },
      "execution_count": null,
      "outputs": [
        {
          "output_type": "stream",
          "name": "stdout",
          "text": [
            "hellow world \n",
            "hi there \n",
            "np\n"
          ]
        }
      ]
    },
    {
      "cell_type": "code",
      "source": [
        "#3 How would you handle a case where the file doesn't exist while trying to open it for reading.\n",
        "\n",
        "try:\n",
        "    with open(\"radhe.txt\", \"r\") as file:\n",
        "        print(file.read())\n",
        "except FileNotFoundError:\n",
        "    print(\"Error: The file does not exist. Please check the filename and try again.\")\n",
        "\n"
      ],
      "metadata": {
        "colab": {
          "base_uri": "https://localhost:8080/"
        },
        "id": "6L15Szbj5rhi",
        "outputId": "d464f7a0-5f39-4dda-e285-8c6171860e55"
      },
      "execution_count": null,
      "outputs": [
        {
          "output_type": "stream",
          "name": "stdout",
          "text": [
            "Error: The file does not exist. Please check the filename and try again.\n"
          ]
        }
      ]
    },
    {
      "cell_type": "code",
      "source": [
        "#4 Write a Python script that reads from one file and writes its content to another file.\n",
        "try:\n",
        "  with open(\"radhen.txt\", 'r') as file2:\n",
        "    with open(\"radh.txt\",'w') as file3:\n",
        "      for line in file2:\n",
        "        file3.write(line)\n",
        "  print(\"file succesful copy\")\n",
        "except FileNotFoundError:\n",
        "    print(\"Error: The input file does not exist.\")\n",
        "except Exception as e:\n",
        "    print(f\"An error occurred: {e}\")\n",
        "\n"
      ],
      "metadata": {
        "colab": {
          "base_uri": "https://localhost:8080/"
        },
        "id": "rPAaSt4C6Tha",
        "outputId": "92010553-0fa9-411c-ddbe-d8b42e40fe07"
      },
      "execution_count": null,
      "outputs": [
        {
          "output_type": "stream",
          "name": "stdout",
          "text": [
            "file succesful copy\n"
          ]
        }
      ]
    },
    {
      "cell_type": "code",
      "source": [
        "#5 How would you catch and handle division by zero error in Python.\n",
        "\n",
        "try:\n",
        "\n",
        "  def divistion():\n",
        "    print(8/0)\n",
        "  divistion()\n",
        "except ZeroDivisionError as e:\n",
        "  print(\"zero divide eroor\", e)"
      ],
      "metadata": {
        "colab": {
          "base_uri": "https://localhost:8080/"
        },
        "id": "cHPnYg_D9pCn",
        "outputId": "4bf6d1bb-db1b-41f7-baca-eafa4c7f91fb"
      },
      "execution_count": null,
      "outputs": [
        {
          "output_type": "stream",
          "name": "stdout",
          "text": [
            "zero divide eroor division by zero\n"
          ]
        }
      ]
    },
    {
      "cell_type": "code",
      "source": [
        "#6 Write a Python program that logs an error message to a log file when a division by zero exception occurs.\n",
        "\n",
        "import logging\n",
        "\n",
        "# Configure logging\n",
        "logging.basicConfig(filename=\"error.log\", level=logging.ERROR, format=\"%(asctime)s - %(levelname)s - %(message)s\")\n",
        "\n",
        "try:\n",
        "    numerator = int(input(\"Enter the numerator: \"))\n",
        "    denominator = int(input(\"Enter the denominator: \"))\n",
        "    result = numerator / denominator\n",
        "    print(f\"Result: {result}\")\n",
        "except ZeroDivisionError:\n",
        "    error_message = \"Error: Division by zero is not allowed.\"\n",
        "    print(error_message)\n",
        "    logging.error(error_message)  # Log the error to the file\n",
        "except ValueError:\n",
        "    error_message = \"Error: Please enter valid numbers.\"\n",
        "    print(error_message)\n",
        "    logging.error(error_message)\n",
        "except Exception as e:\n",
        "    print(f\"An unexpected error occurred: {e}\")\n",
        "    logging.error(f\"Unexpected error: {e}\")\n",
        "\n",
        "print(\"Program execution completed.\")\n"
      ],
      "metadata": {
        "colab": {
          "base_uri": "https://localhost:8080/"
        },
        "id": "f3drbzmyAbuM",
        "outputId": "441ed2e0-918b-443b-a871-3d842d2e7044"
      },
      "execution_count": null,
      "outputs": [
        {
          "name": "stdout",
          "output_type": "stream",
          "text": [
            "Enter the numerator: 2\n",
            "Enter the denominator: 0\n"
          ]
        },
        {
          "output_type": "stream",
          "name": "stderr",
          "text": [
            "ERROR:root:Error: Division by zero is not allowed.\n"
          ]
        },
        {
          "output_type": "stream",
          "name": "stdout",
          "text": [
            "Error: Division by zero is not allowed.\n",
            "Program execution completed.\n"
          ]
        }
      ]
    },
    {
      "cell_type": "code",
      "source": [
        "#7  How do you log information at different levels (INFO, ERROR, WARNING) in Python using the logging module.\n",
        "\n",
        "import logging\n",
        "\n",
        "# Configure logging\n",
        "logging.basicConfig(\n",
        "    filename=\"app.log\",  # Log file name\n",
        "    level=logging.DEBUG,  # Set the lowest level to capture all messages\n",
        "    format=\"%(asctime)s - %(levelname)s - %(message)s\"\n",
        ")\n",
        "\n",
        "# Logging messages at different levels\n",
        "logging.debug(\"This is a DEBUG message - used for troubleshooting.\")\n",
        "logging.info(\"This is an INFO message - general program execution details.\")\n",
        "logging.warning(\"This is a WARNING message - something unexpected happened.\")\n",
        "logging.error(\"This is an ERROR message - an issue that affects execution.\")\n",
        "logging.critical(\"This is a CRITICAL message - a serious error.\")\n",
        "\n",
        "print(\"Logs have been written to 'app.log'.\")\n"
      ],
      "metadata": {
        "id": "orBBDW3UCcZf",
        "colab": {
          "base_uri": "https://localhost:8080/"
        },
        "outputId": "2482ef31-691e-47f8-9855-8606bbf8a225"
      },
      "execution_count": 17,
      "outputs": [
        {
          "output_type": "stream",
          "name": "stderr",
          "text": [
            "WARNING:root:This is a WARNING message - something unexpected happened.\n",
            "ERROR:root:This is an ERROR message - an issue that affects execution.\n",
            "CRITICAL:root:This is a CRITICAL message - a serious error.\n"
          ]
        },
        {
          "output_type": "stream",
          "name": "stdout",
          "text": [
            "Logs have been written to 'app.log'.\n"
          ]
        }
      ]
    },
    {
      "cell_type": "code",
      "source": [
        "#8  Write a program to handle a file opening error using exception handling.\n",
        "\n",
        "try:\n",
        "    # Attempt to open the file\n",
        "    with open(\"nonexistent_file.txt\", \"r\") as file:\n",
        "        content = file.read()\n",
        "        print(content)\n",
        "except FileNotFoundError:\n",
        "    print(\"Error: The file does not exist. Please check the filename and try again.\")\n",
        "\n"
      ],
      "metadata": {
        "colab": {
          "base_uri": "https://localhost:8080/"
        },
        "id": "qpMNOFcQEnHQ",
        "outputId": "5ecd0d7e-ca6d-4dca-ff8e-5be5b996b188"
      },
      "execution_count": 18,
      "outputs": [
        {
          "output_type": "stream",
          "name": "stdout",
          "text": [
            "Error: The file does not exist. Please check the filename and try again.\n"
          ]
        }
      ]
    },
    {
      "cell_type": "code",
      "source": [
        "#9 F How can you read a file line by line and store its content in a list in Python.\n",
        "\n",
        "list1 = []\n",
        "with open(\"radhen.txt\",'r') as filee:\n",
        "  for lines in filee:\n",
        "    list1.append(lines)\n",
        "print(list1)\n"
      ],
      "metadata": {
        "colab": {
          "base_uri": "https://localhost:8080/"
        },
        "id": "T3OrRkTyFjJs",
        "outputId": "70bc1bba-f137-4b42-91f6-df7bbeb0cd06"
      },
      "execution_count": 28,
      "outputs": [
        {
          "output_type": "stream",
          "name": "stdout",
          "text": [
            "['hellow world \\n', 'hi there \\n', 'np']\n"
          ]
        }
      ]
    },
    {
      "cell_type": "code",
      "source": [
        "#10 How can you append data to an existing file in Python\n",
        "with open(\"sample.txt\", \"a\") as file:  # Open in append mode\n",
        "        file.write(\"\\nThis is a new line appended to the file.\")\n",
        ""
      ],
      "metadata": {
        "id": "UXv9nSY2Hfva"
      },
      "execution_count": 29,
      "outputs": []
    },
    {
      "cell_type": "code",
      "source": [
        "#11 Write a Python program that uses a try-except block to handle an error when attempting to access a dictionary key that doesn't exist\n",
        "\n",
        "data = {\"name\": \"Radhen\", \"age\": 25, \"city\": \"Ahmedabad\"}\n",
        "\n",
        "try:\n",
        "\n",
        "    value = data[\"country\"]\n",
        "    print(f\"Country: {value}\")\n",
        "except KeyError:\n",
        "    print(\"Error: The key 'country' does not exist in the dictionary.\")\n"
      ],
      "metadata": {
        "id": "axufAhdFJETJ"
      },
      "execution_count": null,
      "outputs": []
    },
    {
      "cell_type": "code",
      "source": [
        "#12 Write a program that demonstrates using multiple except blocks to handle different types of exceptions.\n",
        "\n",
        "try:\n",
        "    # Prompt user for two numbers\n",
        "    num1 = int(input(\"Enter the first number: \"))\n",
        "    num2 = int(input(\"Enter the second number: \"))\n",
        "\n",
        "    # Perform division\n",
        "    result = num1 / num2\n",
        "    print(f\"Result: {result}\")\n",
        "\n",
        "    # Attempt to access an invalid dictionary key\n",
        "    data = {\"name\": \"Radhen\"}\n",
        "    print(data[\"age\"])\n",
        "\n",
        "except ZeroDivisionError:\n",
        "    print(\"Error: Cannot divide by zero. Please enter a non-zero denominator.\")\n",
        "except ValueError:\n",
        "    print(\"Error: Invalid input! Please enter valid integers.\")\n",
        "except KeyError:\n",
        "    print(\"Error: The key does not exist in the dictionary.\")\n",
        "except Exception as e:\n",
        "    print(f\"An unexpected error occurred: {e}\")\n"
      ],
      "metadata": {
        "id": "r3SLK-jTLDHJ"
      },
      "execution_count": null,
      "outputs": []
    },
    {
      "cell_type": "code",
      "source": [
        "#13  How would you check if a file exists before attempting to read it in Python\n",
        "\n",
        "import os\n",
        "\n",
        "file_path = \"raden.txt\"\n",
        "\n",
        "if os.path.exists(file_path):\n",
        "  try:\n",
        "    with open(\"radhen.txt\",'r') as file:\n",
        "      print(file.read())\n",
        "  except Exception as e:\n",
        "    print(\"file reading error\",e)\n",
        "\n",
        "else:\n",
        "  print(\"file part  don' exist\")\n",
        "\n",
        ""
      ],
      "metadata": {
        "colab": {
          "base_uri": "https://localhost:8080/"
        },
        "id": "KfOGm1P_Li9j",
        "outputId": "c4e237d6-13b8-4b90-a539-cf72a84f5738"
      },
      "execution_count": 31,
      "outputs": [
        {
          "output_type": "stream",
          "name": "stdout",
          "text": [
            "file part  don' exist\n"
          ]
        }
      ]
    },
    {
      "cell_type": "code",
      "source": [
        "#14 Write a program that uses the logging module to log both informational and error messages.\n",
        "import logging\n",
        "\n",
        "# Configure logging\n",
        "logging.basicConfig(\n",
        "    filename=\"app.log\",  # Log to 'app.log'\n",
        "    level=logging.DEBUG,  # Capture all levels (DEBUG and above)\n",
        "    format=\"%(asctime)s - %(levelname)s - %(message)s\"\n",
        ")\n",
        "\n",
        "# Log an informational message\n",
        "logging.info(\"Program started successfully.\")\n",
        "\n",
        "try:\n",
        "    # Simulate a division operation\n",
        "    numerator = 10\n",
        "    denominator = 2\n",
        "    result = numerator / denominator\n",
        "    logging.info(f\"Division successful. Result: {result}\")\n",
        "\n",
        "    # Simulate an error by dividing by zero\n",
        "    denominator = 0\n",
        "    result = numerator / denominator\n",
        "    logging.info(f\"Division successful. Result: {result}\")  # This line won't be executed\n",
        "except ZeroDivisionError:\n",
        "    logging.error(\"Error: Division by zero occurred.\")\n",
        "except Exception as e:\n",
        "    logging.error(f\"An unexpected error occurred: {e}\")\n",
        "\n",
        "# Log that the program finished\n",
        "logging.info(\"Program execution completed.\")\n"
      ],
      "metadata": {
        "id": "IZu4iNt-MsZi"
      },
      "execution_count": null,
      "outputs": []
    },
    {
      "cell_type": "code",
      "source": [
        "#15 Write a Python program that prints the content of a file and handles the case when the file is empty.\n",
        "\n",
        "with open(\"sample.txt\", \"r\") as file:\n",
        "        content = file.read()\n",
        "\n",
        "        if content:\n",
        "            print(content)\n",
        "        else:\n",
        "            print(\"The file is empty.\")"
      ],
      "metadata": {
        "colab": {
          "base_uri": "https://localhost:8080/"
        },
        "id": "nSuwI1TzNbLM",
        "outputId": "16e7b2ea-7f30-4501-ed67-2d8a48062d3a"
      },
      "execution_count": 32,
      "outputs": [
        {
          "output_type": "stream",
          "name": "stdout",
          "text": [
            "\n",
            "This is a new line appended to the file.\n"
          ]
        }
      ]
    },
    {
      "cell_type": "code",
      "source": [
        "#16 Demonstrate how to use memory profiling to check the memory usage of a small program.\n"
      ],
      "metadata": {
        "id": "Cg4gOiG2N8kS"
      },
      "execution_count": null,
      "outputs": []
    },
    {
      "cell_type": "code",
      "source": [
        "#17 Write a Python program to create and write a list of numbers to a file, one number per line\n",
        "numbers =[1,2,3,4,5,6,7,8,9]\n",
        "with open(\"number.txt\", 'w') as file:\n",
        "  for number in numbers:\n",
        "    file.write(f\"{number}\\n\")\n",
        "\n",
        "\n"
      ],
      "metadata": {
        "id": "9Nhvd0k-OOef"
      },
      "execution_count": 35,
      "outputs": []
    },
    {
      "cell_type": "code",
      "source": [
        "#18\n",
        "\n",
        "import logging\n",
        "from logging.handlers import RotatingFileHandler\n",
        "\n",
        "# Set up the logging configuration\n",
        "log_filename = \"app.log\"\n",
        "\n",
        "# Create a rotating file handler that will create a new log file after it reaches 1MB\n",
        "handler = RotatingFileHandler(log_filename, maxBytes=1e6, backupCount=3)  # 1e6 bytes = 1MB\n",
        "handler.setLevel(logging.DEBUG)\n",
        "\n",
        "# Create a formatter for the log messages\n",
        "formatter = logging.Formatter('%(asctime)s - %(levelname)s - %(message)s')\n",
        "handler.setFormatter(formatter)\n",
        "\n",
        "# Get the root logger\n",
        "logger = logging.getLogger()\n",
        "\n",
        "# Add the handler to the logger\n",
        "logger.addHandler(handler)\n",
        "logger.setLevel(logging.DEBUG)\n",
        "\n",
        "# Log some messages\n",
        "logger.debug(\"This is a debug message.\")\n",
        "logger.info(\"This is an info message.\")\n",
        "logger.warning(\"This is a warning message.\")\n",
        "logger.error(\"This is an error message.\")\n",
        "logger.critical(\"This is a critical message.\")\n",
        "\n",
        "print(\"Logs have been written to 'app.log'.\")\n"
      ],
      "metadata": {
        "id": "-lNk0x8GPlbX"
      },
      "execution_count": null,
      "outputs": []
    },
    {
      "cell_type": "code",
      "source": [
        "#19 Write a program that handles both IndexError and KeyError using a try-except block\n",
        "\n",
        "my_list = [1, 2, 3]\n",
        "my_dict = {\"name\": \"Radhen\", \"age\": 25}\n",
        "\n",
        "try:\n",
        "\n",
        "    print(my_list[5])\n",
        "\n",
        "\n",
        "    print(my_dict[\"city\"])\n",
        "\n",
        "except IndexError:\n",
        "    print(\"Error: The index does not exist in the list.\")\n",
        "except KeyError:\n",
        "    print(\"Error: The key does not exist in the dictionary.\")\n",
        "\n"
      ],
      "metadata": {
        "colab": {
          "base_uri": "https://localhost:8080/"
        },
        "id": "BYEypkIOPv-z",
        "outputId": "db4a5967-3a78-46e5-a3fa-5eb9f7729597"
      },
      "execution_count": 36,
      "outputs": [
        {
          "output_type": "stream",
          "name": "stdout",
          "text": [
            "Error: The index does not exist in the list.\n"
          ]
        }
      ]
    },
    {
      "cell_type": "code",
      "source": [
        "#20 F How would you open a file and read its contents using a context manager in Python\n",
        "\n",
        "with open(\"sample.txt\", \"r\") as file:\n",
        "    content = file.read()\n",
        "    print(content)\n"
      ],
      "metadata": {
        "colab": {
          "base_uri": "https://localhost:8080/"
        },
        "id": "rz0C7gJzQC5-",
        "outputId": "7cd36441-0e42-4b6e-b7a4-9782aa8df1f1"
      },
      "execution_count": 37,
      "outputs": [
        {
          "output_type": "stream",
          "name": "stdout",
          "text": [
            "\n",
            "This is a new line appended to the file.\n"
          ]
        }
      ]
    },
    {
      "cell_type": "code",
      "source": [
        "#21 Write a Python program that reads a file and prints the number of occurrences of a specific word\n",
        "\n",
        "\n",
        "\n",
        "word_to_search = \"Python\"\n",
        "\n",
        "\n",
        "word_count = 0\n",
        "\n",
        "\n",
        "\n",
        "try:\n",
        "\n",
        "\n",
        "    with open(\"sample.txt\", \"r\") as file:\n",
        "\n",
        "        for line in file:\n",
        "\n",
        "            word_count += line.lower().split().count(word_to_search.lower())\n",
        "\n",
        "    print(f\"The word '{word_to_search}' appeared {word_count} times.\")\n",
        "\n",
        "\n",
        "\n",
        "except FileNotFoundError:\n",
        "    print(\"Error: The file does not exist.\")\n",
        "except Exception as e:\n",
        "    print(f\"An unexpected error occurred: {e}\")\n"
      ],
      "metadata": {
        "colab": {
          "base_uri": "https://localhost:8080/"
        },
        "id": "ZeGM8fkcQefS",
        "outputId": "2ed7e047-9c4c-4d1a-a145-b07d575af6bb"
      },
      "execution_count": 38,
      "outputs": [
        {
          "output_type": "stream",
          "name": "stdout",
          "text": [
            "The word 'Python' appeared 3 times.\n"
          ]
        }
      ]
    },
    {
      "cell_type": "code",
      "source": [
        "#22 How can you check if a file is empty before attempting to read its contents\n",
        "\n",
        "import os\n",
        "\n",
        "file_path = \"sample.txt\"\n",
        "\n",
        "\n",
        "if os.path.exists(file_path) and os.stat(file_path).st_size > 0:\n",
        "    with open(file_path, \"r\") as file:\n",
        "        content = file.read()\n",
        "        print(content)\n",
        "else:\n",
        "    print(\"The file is empty or does not exist.\")\n"
      ],
      "metadata": {
        "id": "_VVouksiRlVf"
      },
      "execution_count": null,
      "outputs": []
    },
    {
      "cell_type": "code",
      "source": [
        "#23 Write a Python program that writes to a log file when an error occurs during file handling\n",
        "\n",
        "import logging\n",
        "\n",
        "\n",
        "logging.basicConfig(\n",
        "    filename=\"file_operations.log\",\n",
        "    level=logging.ERROR,\n",
        "    format=\"%(asctime)s - %(levelname)s - %(message)s\"\n",
        ")\n",
        "\n",
        "\n",
        "def read_file(file_path):\n",
        "    try:\n",
        "        with open(file_path, \"r\") as file:\n",
        "            content = file.read()\n",
        "            print(content)\n",
        "    except FileNotFoundError:\n",
        "        logging.error(f\"File not found: {file_path}\")\n",
        "        print(\"Error: The file does not exist.\")\n",
        "    except PermissionError:\n",
        "        logging.error(f\"Permission denied when trying to access: {file_path}\")\n",
        "        print(\"Error: Permission denied.\")\n",
        "    except Exception as e:\n",
        "        logging.error(f\"An unexpected error occurred: {e}\")\n",
        "        print(f\"Error: {e}\")\n",
        "\n",
        "\n",
        "read_file(\"non_existent_file.txt\")\n"
      ],
      "metadata": {
        "colab": {
          "base_uri": "https://localhost:8080/"
        },
        "id": "6J0Hwb7CR4hm",
        "outputId": "47784433-132c-4966-b01c-afbc61846868"
      },
      "execution_count": 39,
      "outputs": [
        {
          "output_type": "stream",
          "name": "stderr",
          "text": [
            "ERROR:root:File not found: non_existent_file.txt\n"
          ]
        },
        {
          "output_type": "stream",
          "name": "stdout",
          "text": [
            "Error: The file does not exist.\n"
          ]
        }
      ]
    },
    {
      "cell_type": "code",
      "source": [],
      "metadata": {
        "id": "X1nhtKOgSIuH"
      },
      "execution_count": null,
      "outputs": []
    }
  ]
}