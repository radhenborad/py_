{
  "nbformat": 4,
  "nbformat_minor": 0,
  "metadata": {
    "colab": {
      "provenance": []
    },
    "kernelspec": {
      "name": "python3",
      "display_name": "Python 3"
    },
    "language_info": {
      "name": "python"
    }
  },
  "cells": [
    {
      "cell_type": "code",
      "execution_count": 42,
      "metadata": {
        "id": "OwKrMFp8QAtB",
        "colab": {
          "base_uri": "https://localhost:8080/"
        },
        "outputId": "7cca7e35-eae1-480c-c302-9dde7c57622e"
      },
      "outputs": [
        {
          "output_type": "stream",
          "name": "stdout",
          "text": [
            "[0, 2, 3]\n",
            "True\n",
            "[1, 'hello', 3.14]\n",
            "{1, 2, 3}\n",
            "True\n",
            "True\n",
            "HR\n",
            "20\n",
            "20\n"
          ]
        }
      ],
      "source": [
        "# Data Structures in Python\n",
        "\n",
        "### 1. What are data structures, and why are they important?\n",
        "# Data structures are organized ways to store and manage data to perform operations efficiently.\n",
        "# Examples: arrays, lists, stacks, queues, dictionaries, sets, and graphs.\n",
        "# Importance: They optimize processing and retrieval of data, impacting performance of algorithms and applications.\n",
        "\n",
        "### 2. Explain the difference between mutable and immutable data types with examples.\n",
        "# Mutable: Can be modified after creation.\n",
        "my_list = [1, 2, 3]  # Example of mutable\n",
        "def modify_list(lst):\n",
        "    lst[0] = 0\n",
        "modify_list(my_list)\n",
        "print(my_list)  # Output: [0, 2, 3]\n",
        "\n",
        "# Immutable: Cannot be modified after creation.\n",
        "my_tuple = (1, 2, 3)  # Example of immutable\n",
        "# my_tuple[0] = 0  # Raises a TypeError\n",
        "\n",
        "### 3. What are the main differences between lists and tuples in Python?\n",
        "# Lists are mutable, whereas tuples are immutable.\n",
        "# Lists consume more memory and have slightly slower operations than tuples due to their flexibility.\n",
        "my_list = [1, 2, 3]  # Mutable\n",
        "my_tuple = (1, 2, 3)  # Immutable\n",
        "\n",
        "### 4. Describe how dictionaries store data.\n",
        "# Dictionaries store data in key-value pairs. Internally, Python uses hash tables, where the keys are hashed to find an index in memory. This allows for fast lookups and updates.\n",
        "\n",
        "### 5. Why might you use a set instead of a list in Python?\n",
        "# Sets are used to store unique elements and perform mathematical operations like unions, intersections, and differences. They also provide faster membership testing (`in` operator) than lists.\n",
        "my_set = {1, 2, 3}\n",
        "print(2 in my_set)  # Output: True\n",
        "\n",
        "### 6. What is a string in Python, and how is it different from a list?\n",
        "# A string is a sequence of characters, while a list can contain elements of any data type.\n",
        "# Strings are immutable, whereas lists are mutable.\n",
        "my_string = \"hello\"  # Immutable\n",
        "my_list = ['h', 'e', 'l', 'l', 'o']  # Mutable\n",
        "\n",
        "### 7. How do tuples ensure data integrity in Python?\n",
        "# Tuples are immutable, so their contents cannot be changed after creation. This ensures that the data remains consistent and prevents accidental modification.\n",
        "\n",
        "### 8. What is a hash table, and how does it relate to dictionaries in Python?\n",
        "# A hash table is a data structure that maps keys to values using a hash function. Python dictionaries use hash tables to achieve average O(1) time complexity for lookups, insertions, and deletions.\n",
        "\n",
        "### 9. Can lists contain different data types in Python?\n",
        "# Yes, lists can store elements of mixed data types.\n",
        "my_list = [1, \"hello\", 3.14]\n",
        "print(my_list)  # Output: [1, \"hello\", 3.14]\n",
        "\n",
        "### 10. Explain why strings are immutable in Python.\n",
        "# Strings are immutable to ensure thread safety, optimize performance, and allow them to be used as keys in dictionaries (hashable).\n",
        "\n",
        "### 11. What advantages do dictionaries offer over lists for certain tasks?\n",
        "# Dictionaries provide fast lookups and allow storing data in a key-value format, making them ideal for tasks involving quick access to data using a key.\n",
        "\n",
        "### 12. Describe a scenario where using a tuple would be preferable over a list.\n",
        "# Use tuples when you need a fixed, unchangeable collection of elements, such as coordinates or a configuration that should not be altered.\n",
        "coordinates = (10, 20)\n",
        "\n",
        "### 13. How do sets handle duplicate values in Python?\n",
        "# Sets automatically eliminate duplicate values.\n",
        "my_set = {1, 2, 2, 3}\n",
        "print(my_set)  # Output: {1, 2, 3}\n",
        "\n",
        "### 14. How does the `in` keyword work differently for lists and dictionaries?\n",
        "# For lists, `in` checks for the presence of a value.\n",
        "# For dictionaries, `in` checks for the presence of a key.\n",
        "my_list = [1, 2, 3]\n",
        "my_dict = {\"a\": 1, \"b\": 2}\n",
        "print(1 in my_list)  # Output: True\n",
        "print(\"a\" in my_dict)  # Output: True\n",
        "\n",
        "### 15. Can you modify the elements of a tuple? Explain why or why not.\n",
        "# No, you cannot modify elements of a tuple because tuples are immutable. This makes them suitable for ensuring data integrity.\n",
        "\n",
        "### 16. What is a nested dictionary, and give an example of its use case?\n",
        "# A nested dictionary is a dictionary containing another dictionary as its value.\n",
        "employee_data = {\n",
        "    \"Alice\": {\"age\": 30, \"department\": \"HR\"},\n",
        "    \"Bob\": {\"age\": 25, \"department\": \"IT\"}\n",
        "}\n",
        "print(employee_data[\"Alice\"][\"department\"])  # Output: HR\n",
        "\n",
        "### 17. Describe the time complexity of accessing elements in a dictionary.\n",
        "# Accessing elements in a dictionary has an average time complexity of O(1) due to its hash table implementation.\n",
        "\n",
        "### 18. In what situations are lists preferred over dictionaries?\n",
        "# Lists are preferred when the order of elements is important or when you need to perform operations on sequences without the need for key-based lookups.\n",
        "\n",
        "### 19. Why are dictionaries considered unordered, and how does that affect data retrieval?\n",
        "# Dictionaries are historically unordered because they store data based on hash values. However, starting with Python 3.7, dictionaries maintain insertion order, though retrieval is still key-based and does not depend on the order.\n",
        "\n",
        "### 20. Explain the difference between a list and a dictionary in terms of data retrieval.\n",
        "# List: Retrieval is based on index position.\n",
        "# Dictionary: Retrieval is based on keys, which allows for faster and more intuitive lookups.\n",
        "my_list = [10, 20, 30]\n",
        "my_dict = {\"a\": 10, \"b\": 20, \"c\": 30}\n",
        "print(my_list[1])  # Output: 20\n",
        "print(my_dict[\"b\"])  # Output: 20\n"
      ]
    },
    {
      "cell_type": "code",
      "source": [
        "# 1  Write a code to create a string with your name and print it.\n",
        "name= \"radhen borad\"\n",
        "print(name)"
      ],
      "metadata": {
        "colab": {
          "base_uri": "https://localhost:8080/"
        },
        "id": "d_inI_tdQN4j",
        "outputId": "848f95b9-e7f3-462d-9313-5be84a8c9ed5"
      },
      "execution_count": null,
      "outputs": [
        {
          "output_type": "stream",
          "name": "stdout",
          "text": [
            "radhen borad\n"
          ]
        }
      ]
    },
    {
      "cell_type": "code",
      "source": [
        "## 2 Write a code to find the length of the string \"Hello World\"\n",
        "len(\"hello world\")"
      ],
      "metadata": {
        "colab": {
          "base_uri": "https://localhost:8080/"
        },
        "id": "eUyv5sPZQgCK",
        "outputId": "55186b92-146e-4834-892b-0405dedc2140"
      },
      "execution_count": null,
      "outputs": [
        {
          "output_type": "execute_result",
          "data": {
            "text/plain": [
              "11"
            ]
          },
          "metadata": {},
          "execution_count": 2
        }
      ]
    },
    {
      "cell_type": "code",
      "source": [
        "#3  Write a code to slice the first 3 characters from the string \"Python Programming\".\n",
        "s = \"Python Programming\"\n",
        "s[0:3]"
      ],
      "metadata": {
        "colab": {
          "base_uri": "https://localhost:8080/",
          "height": 36
        },
        "id": "IGhCPFcgQpWS",
        "outputId": "ec0f8d9b-147a-4244-da6a-a406414d1df2"
      },
      "execution_count": null,
      "outputs": [
        {
          "output_type": "execute_result",
          "data": {
            "text/plain": [
              "'Pyt'"
            ],
            "application/vnd.google.colaboratory.intrinsic+json": {
              "type": "string"
            }
          },
          "metadata": {},
          "execution_count": 3
        }
      ]
    },
    {
      "cell_type": "code",
      "source": [
        "# 4 Write a code to convert the string \"hello\" to uppercase.\n",
        "a =\"hello\"\n",
        "a.upper()"
      ],
      "metadata": {
        "colab": {
          "base_uri": "https://localhost:8080/",
          "height": 36
        },
        "id": "1q63RNK-RP9F",
        "outputId": "96a8a064-b018-40e6-e86f-5cf5f47481ac"
      },
      "execution_count": null,
      "outputs": [
        {
          "output_type": "execute_result",
          "data": {
            "text/plain": [
              "'HELLO'"
            ],
            "application/vnd.google.colaboratory.intrinsic+json": {
              "type": "string"
            }
          },
          "metadata": {},
          "execution_count": 5
        }
      ]
    },
    {
      "cell_type": "code",
      "source": [
        "# 5 Write a code to replace the word \"apple\" with \"orange\" in the string \"I like apple\".\n",
        "\n",
        "b=\"I like apple\"\n",
        "\n",
        "b.replace(\"apple\", \"orange\")"
      ],
      "metadata": {
        "colab": {
          "base_uri": "https://localhost:8080/",
          "height": 36
        },
        "id": "_7wsxN4TRlK2",
        "outputId": "4fc278a9-97f1-44cf-aa08-62e2df54f456"
      },
      "execution_count": null,
      "outputs": [
        {
          "output_type": "execute_result",
          "data": {
            "text/plain": [
              "'I like orange'"
            ],
            "application/vnd.google.colaboratory.intrinsic+json": {
              "type": "string"
            }
          },
          "metadata": {},
          "execution_count": 6
        }
      ]
    },
    {
      "cell_type": "code",
      "source": [
        "# 6 Write a code to create a list with numbers 1 to 5 and print it.\n",
        "c=[1,2,3,4,5]\n",
        "print(c)"
      ],
      "metadata": {
        "colab": {
          "base_uri": "https://localhost:8080/"
        },
        "id": "-GhZF8jBSHp0",
        "outputId": "d756db3a-c235-4dcf-90a2-db5a3a239959"
      },
      "execution_count": null,
      "outputs": [
        {
          "output_type": "stream",
          "name": "stdout",
          "text": [
            "[1, 2, 3, 4, 5]\n"
          ]
        }
      ]
    },
    {
      "cell_type": "code",
      "source": [
        "#7 Write a code to append the number 10 to the list [1, 2, 3, 4].\n",
        "\n",
        "ra = [1,2,3,4]\n",
        "ra.append(10)\n",
        "print(ra)"
      ],
      "metadata": {
        "colab": {
          "base_uri": "https://localhost:8080/"
        },
        "id": "PVjj1ky-SZWy",
        "outputId": "f337a283-dc88-412c-919a-2d9bcfe83ca7"
      },
      "execution_count": null,
      "outputs": [
        {
          "output_type": "stream",
          "name": "stdout",
          "text": [
            "[1, 2, 3, 4, 10]\n"
          ]
        }
      ]
    },
    {
      "cell_type": "code",
      "source": [
        "#8 Write a code to remove the number 3 from the list [1, 2, 3, 4, 5].\n",
        "rb = [1, 2, 3, 4, 5]\n",
        "rb.remove(3)\n",
        "print(rb)"
      ],
      "metadata": {
        "colab": {
          "base_uri": "https://localhost:8080/"
        },
        "id": "Ol_Q2gafSteG",
        "outputId": "a2b80a60-f24d-44fa-e205-a992e2b31214"
      },
      "execution_count": null,
      "outputs": [
        {
          "output_type": "stream",
          "name": "stdout",
          "text": [
            "[1, 2, 4, 5]\n"
          ]
        }
      ]
    },
    {
      "cell_type": "code",
      "source": [
        "#9 Write a code to access the second element in the list ['a', 'b', 'c', 'd'].\n",
        "rr = ['a', 'b', 'c', 'd']\n",
        "rr[1]\n",
        "\n"
      ],
      "metadata": {
        "colab": {
          "base_uri": "https://localhost:8080/",
          "height": 36
        },
        "id": "a_vVKv3FS8y0",
        "outputId": "04fa8143-1f65-4e49-82d7-164924100b4c"
      },
      "execution_count": null,
      "outputs": [
        {
          "output_type": "execute_result",
          "data": {
            "text/plain": [
              "'b'"
            ],
            "application/vnd.google.colaboratory.intrinsic+json": {
              "type": "string"
            }
          },
          "metadata": {},
          "execution_count": 12
        }
      ]
    },
    {
      "cell_type": "code",
      "source": [
        "#10 Write a code to reverse the list [10, 20, 30, 40, 50].\n",
        "\n",
        "t = [10, 20, 30, 40, 50]\n",
        "\n",
        "t[::-1]"
      ],
      "metadata": {
        "colab": {
          "base_uri": "https://localhost:8080/"
        },
        "id": "3OcV2FlATZ_k",
        "outputId": "65ca9b65-0692-4feb-8ca0-d5128fd0996c"
      },
      "execution_count": null,
      "outputs": [
        {
          "output_type": "execute_result",
          "data": {
            "text/plain": [
              "[50, 40, 30, 20, 10]"
            ]
          },
          "metadata": {},
          "execution_count": 13
        }
      ]
    },
    {
      "cell_type": "code",
      "source": [
        "#11 Write a code to create a tuple with the elements 10, 20, 30 and print it.\n",
        "\n",
        "\n",
        "my_tuple = (10, 20, 30)\n",
        "\n",
        "\n",
        "print(my_tuple)\n",
        "\n"
      ],
      "metadata": {
        "colab": {
          "base_uri": "https://localhost:8080/"
        },
        "id": "-ckjS9I8T3Ap",
        "outputId": "bd631936-abf3-426f-decb-6d536e1a4e1b"
      },
      "execution_count": null,
      "outputs": [
        {
          "output_type": "stream",
          "name": "stdout",
          "text": [
            "(10, 20, 30)\n"
          ]
        }
      ]
    },
    {
      "cell_type": "code",
      "source": [
        " # 12. Write a code to access the first element of the tuple ('apple', 'banana', 'cherry').\n",
        " tuple1 =  (\"apple\", \"banana\", \"cherry\")\n",
        " tuple1[0]\n",
        "\n",
        "\n"
      ],
      "metadata": {
        "colab": {
          "base_uri": "https://localhost:8080/",
          "height": 36
        },
        "id": "HxsuJiI6USsx",
        "outputId": "1a4bda19-1689-4fdc-c085-73f762e52dc0"
      },
      "execution_count": null,
      "outputs": [
        {
          "output_type": "execute_result",
          "data": {
            "text/plain": [
              "'apple'"
            ],
            "application/vnd.google.colaboratory.intrinsic+json": {
              "type": "string"
            }
          },
          "metadata": {},
          "execution_count": 19
        }
      ]
    },
    {
      "cell_type": "code",
      "source": [
        "## 13. Write a code to count how many times the number 2 appears in the tuple (1, 2, 3, 2, 4, 2)\n",
        "\n",
        "T2 =  (1, 2, 3, 2, 4, 2)\n",
        "\n",
        "T2.count(2)\n"
      ],
      "metadata": {
        "colab": {
          "base_uri": "https://localhost:8080/"
        },
        "id": "4TXYeDpgUnjc",
        "outputId": "a4063127-e7a2-415a-f690-5b81dcd0f40f"
      },
      "execution_count": null,
      "outputs": [
        {
          "output_type": "execute_result",
          "data": {
            "text/plain": [
              "3"
            ]
          },
          "metadata": {},
          "execution_count": 20
        }
      ]
    },
    {
      "cell_type": "code",
      "source": [
        " #14. Write a code to find the index of the element \"cat\" in the tuple ('dog', 'cat', 'rabbit').\n",
        "\n",
        " t3 = ('dog', 'cat', 'rabbit')\n",
        "\n",
        " t3.index('cat')\n"
      ],
      "metadata": {
        "colab": {
          "base_uri": "https://localhost:8080/"
        },
        "id": "lz0wCdozVJc8",
        "outputId": "d00e7c3e-2027-43d1-f8f4-b4790f75b858"
      },
      "execution_count": null,
      "outputs": [
        {
          "output_type": "execute_result",
          "data": {
            "text/plain": [
              "1"
            ]
          },
          "metadata": {},
          "execution_count": 21
        }
      ]
    },
    {
      "cell_type": "code",
      "source": [
        "# 15. Write a code to check if the element \"banana\" is in the tuple ('apple', 'orange', 'banana').\n",
        "\n",
        "t4 = ('apple', 'orange', 'banana')\n",
        "\n",
        "if 'banana'in t4:\n",
        "  print(\"yes\")\n",
        "else:\n",
        "  print(\"no\")\n",
        "\n"
      ],
      "metadata": {
        "colab": {
          "base_uri": "https://localhost:8080/"
        },
        "id": "unfxmtBnVdP1",
        "outputId": "af135d55-539f-4fa8-c478-b8db6c7f222a"
      },
      "execution_count": null,
      "outputs": [
        {
          "output_type": "stream",
          "name": "stdout",
          "text": [
            "yes\n"
          ]
        }
      ]
    },
    {
      "cell_type": "code",
      "source": [
        "#16. Write a code to create a set with the elements 1, 2, 3, 4, 5 and print it.\n",
        "\n",
        "s1 = {1,2,3,4,5}\n",
        "print(s1)\n"
      ],
      "metadata": {
        "colab": {
          "base_uri": "https://localhost:8080/"
        },
        "id": "d5tr403GW0KH",
        "outputId": "9dcd7382-0a08-4048-9f9e-9e653df108da"
      },
      "execution_count": null,
      "outputs": [
        {
          "output_type": "stream",
          "name": "stdout",
          "text": [
            "{1, 2, 3, 4, 5}\n"
          ]
        }
      ]
    },
    {
      "cell_type": "code",
      "source": [
        "#17. Write a code to add the element 6 to the set {1, 2, 3, 4}\n",
        "\n",
        "s2 = {1, 2, 3, 4}\n",
        "s2.add(6)\n",
        "s2"
      ],
      "metadata": {
        "colab": {
          "base_uri": "https://localhost:8080/"
        },
        "id": "SZpY-LdAXIjW",
        "outputId": "144aa43b-19d0-419e-9ad7-0fda37cb9655"
      },
      "execution_count": null,
      "outputs": [
        {
          "output_type": "execute_result",
          "data": {
            "text/plain": [
              "{1, 2, 3, 4, 6}"
            ]
          },
          "metadata": {},
          "execution_count": 32
        }
      ]
    },
    {
      "cell_type": "code",
      "source": [
        "#  18. Write a code to create a tuple with the elements 10, 20, 30 and print it.\n",
        "\n",
        "my_tuple = (10, 20, 30)\n",
        "\n",
        "\n",
        "print(my_tuple)\n"
      ],
      "metadata": {
        "colab": {
          "base_uri": "https://localhost:8080/"
        },
        "id": "6PQzpU85XXhu",
        "outputId": "18722353-50f7-46fc-e7c9-a524d739dc33"
      },
      "execution_count": null,
      "outputs": [
        {
          "output_type": "stream",
          "name": "stdout",
          "text": [
            "(10, 20, 30)\n"
          ]
        }
      ]
    },
    {
      "cell_type": "code",
      "source": [
        "# 19. Write a code to access the first element of the tuple ('apple', 'banana', 'cherry').\n",
        "\n",
        "\n",
        "tuple1 =  (\"apple\", \"banana\", \"cherry\")\n",
        "tuple1[0]"
      ],
      "metadata": {
        "colab": {
          "base_uri": "https://localhost:8080/",
          "height": 36
        },
        "id": "PKY2WnTaXswu",
        "outputId": "cfdfd9d6-4666-4cf9-b39d-155f80bb5546"
      },
      "execution_count": null,
      "outputs": [
        {
          "output_type": "execute_result",
          "data": {
            "text/plain": [
              "'apple'"
            ],
            "application/vnd.google.colaboratory.intrinsic+json": {
              "type": "string"
            }
          },
          "metadata": {},
          "execution_count": 35
        }
      ]
    },
    {
      "cell_type": "code",
      "source": [
        "# 20   Write a code to count how many times the number 2 appears in the tuple (1, 2, 3, 2, 4, 2)\n",
        "\n",
        "T2 =  (1, 2, 3, 2, 4, 2)\n",
        "\n",
        "T2.count(2)"
      ],
      "metadata": {
        "id": "fNfcLUlNYAhh",
        "outputId": "945cbde8-88ef-4f30-9937-fca62ea07e40",
        "colab": {
          "base_uri": "https://localhost:8080/"
        }
      },
      "execution_count": null,
      "outputs": [
        {
          "output_type": "execute_result",
          "data": {
            "text/plain": [
              "3"
            ]
          },
          "metadata": {},
          "execution_count": 36
        }
      ]
    },
    {
      "cell_type": "code",
      "source": [
        "#21  Write a code to find the index of the element \"cat\" in the tuple ('dog', 'cat', 'rabbit').\n",
        "\n",
        "t3 = ('dog', 'cat', 'rabbit')\n",
        "\n",
        "t3.index('cat')"
      ],
      "metadata": {
        "colab": {
          "base_uri": "https://localhost:8080/"
        },
        "id": "us3DAfH6YXjj",
        "outputId": "52ec2a0c-f2bd-4fb8-f73c-6aea1583f460"
      },
      "execution_count": 38,
      "outputs": [
        {
          "output_type": "execute_result",
          "data": {
            "text/plain": [
              "1"
            ]
          },
          "metadata": {},
          "execution_count": 38
        }
      ]
    },
    {
      "cell_type": "code",
      "source": [
        "#22#  Write a code to check if the element \"banana\" is in the tuple ('apple', 'orange', 'banana').\n",
        "\n",
        "t4 = ('apple', 'orange', 'banana')\n",
        "\n",
        "if 'banana'in t4:\n",
        "  print(\"yes\")\n",
        "else:\n",
        "  print(\"no\")"
      ],
      "metadata": {
        "colab": {
          "base_uri": "https://localhost:8080/"
        },
        "id": "zFHuy0QKYfOY",
        "outputId": "b5458b6e-3713-441f-ac81-5673f6a6f4b2"
      },
      "execution_count": 39,
      "outputs": [
        {
          "output_type": "stream",
          "name": "stdout",
          "text": [
            "yes\n"
          ]
        }
      ]
    },
    {
      "cell_type": "code",
      "source": [
        "#23  Write a code to create a set with the elements 1, 2, 3, 4, 5 and print it.\n",
        "\n",
        "s1 = {1,2,3,4,5}\n",
        "print(s1)\n"
      ],
      "metadata": {
        "colab": {
          "base_uri": "https://localhost:8080/"
        },
        "id": "a4jpWiSlYnkZ",
        "outputId": "77e033ca-d77d-4cfb-e2ad-bbb9d5611da7"
      },
      "execution_count": 40,
      "outputs": [
        {
          "output_type": "stream",
          "name": "stdout",
          "text": [
            "{1, 2, 3, 4, 5}\n"
          ]
        }
      ]
    },
    {
      "cell_type": "code",
      "source": [
        "#15. Write a code to add the element 6 to the set {1, 2, 3, 4}\n",
        "\n",
        "s2 = {1, 2, 3, 4}\n",
        "s2.add(6)\n",
        "s2"
      ],
      "metadata": {
        "colab": {
          "base_uri": "https://localhost:8080/"
        },
        "id": "bRDDRwmwYs4r",
        "outputId": "a35c35b5-0381-4499-93fa-905181eedc32"
      },
      "execution_count": 41,
      "outputs": [
        {
          "output_type": "execute_result",
          "data": {
            "text/plain": [
              "{1, 2, 3, 4, 6}"
            ]
          },
          "metadata": {},
          "execution_count": 41
        }
      ]
    }
  ]
}