{
  "nbformat": 4,
  "nbformat_minor": 0,
  "metadata": {
    "colab": {
      "provenance": []
    },
    "kernelspec": {
      "name": "python3",
      "display_name": "Python 3"
    },
    "language_info": {
      "name": "python"
    }
  },
  "cells": [
    {
      "cell_type": "code",
      "execution_count": null,
      "metadata": {
        "colab": {
          "base_uri": "https://localhost:8080/"
        },
        "id": "xoOkwpgeewOK",
        "outputId": "440cda50-205a-425d-b5b0-4a30523ca751"
      },
      "outputs": [
        {
          "output_type": "stream",
          "name": "stdout",
          "text": [
            "Hello, Radhen!\n",
            "Hello, Radhen!\n",
            "8\n",
            "16\n",
            "16\n",
            "12\n",
            "1\n",
            "2\n",
            "1\n",
            "2\n",
            "3\n",
            "8\n",
            "[1, 4, 9, 16]\n",
            "[1, 4, 9, 16]\n",
            "10\n",
            "[2, 4]\n",
            "113\n"
          ]
        }
      ],
      "source": [
        "# Python Code to Answer the Theory Questions\n",
        "\n",
        "\"\"\"\n",
        "1. What is the difference between a function and a method in Python?\n",
        "\"\"\"\n",
        "# Function Example\n",
        "def greet(name):\n",
        "    return f\"Hello, {name}!\"\n",
        "print(greet(\"Radhen\"))  # Output: Hello, Radhen!\n",
        "\n",
        "\n",
        "\n",
        "\"\"\"\n",
        "2. Explain the concept of function arguments and parameters in Python.\n",
        "\"\"\"\n",
        "# Parameters and Arguments Example\n",
        "def add(a, b):  # 'a' and 'b' are parameters\n",
        "    return a + b\n",
        "print(add(3, 5))  # '3' and '5' are arguments, Output: 8\n",
        "\n",
        "\"\"\"\n",
        "3. What are the different ways to define and call a function in Python?\n",
        "\"\"\"\n",
        "# Define using def\n",
        "\n",
        "def square(x):\n",
        "    return x * x\n",
        "print(square(4))  # Output: 16\n",
        "\n",
        "# Lambda Function\n",
        "square_lambda = lambda x: x * x\n",
        "print(square_lambda(4))  # Output: 16\n",
        "\n",
        "\"\"\"\n",
        "4. What is the purpose of the `return` statement in a Python function?\n",
        "\"\"\"\n",
        "# Example\n",
        "\n",
        "def multiply(a, b):\n",
        "    return a * b\n",
        "result = multiply(3, 4)  # return sends 12 to the caller\n",
        "print(result)  # Output: 12\n",
        "\n",
        "\"\"\"\n",
        "5. What are iterators in Python and how do they differ from iterables?\n",
        "\"\"\"\n",
        "# Example\n",
        "iterable = [1, 2, 3]  # List is an iterable\n",
        "iterator = iter(iterable)  # Convert iterable into an iterator\n",
        "print(next(iterator))  # Output: 1\n",
        "print(next(iterator))  # Output: 2\n",
        "\n",
        "\"\"\"\n",
        "6. Explain the concept of generators in Python and how they are defined.\n",
        "\"\"\"\n",
        "# Generator Example\n",
        "def count_up_to(n):\n",
        "    count = 1\n",
        "    while count <= n:\n",
        "        yield count\n",
        "        count += 1\n",
        "\n",
        "for num in count_up_to(3):\n",
        "    print(num)  # Output: 1, 2, 3\n",
        "\n",
        "\"\"\"\n",
        "7. What are the advantages of using generators over regular functions?\n",
        "\"\"\"\n",
        "# Generators use less memory as they yield items one at a time instead of returning them all at once.\n",
        "\n",
        "def numbers():\n",
        "    for i in range(1000000):\n",
        "        yield i  # Efficient memory usage\n",
        "\n",
        "\"\"\"\n",
        "8. What is a lambda function in Python and when is it typically used?\n",
        "\"\"\"\n",
        "# Lambda Function Example\n",
        "add = lambda x, y: x + y\n",
        "print(add(5, 3))  # Output: 8\n",
        "\n",
        "\"\"\"\n",
        "9. Explain the purpose and usage of the `map()` function in Python.\n",
        "\"\"\"\n",
        "# Example\n",
        "nums = [1, 2, 3, 4]\n",
        "squared = map(lambda x: x**2, nums)\n",
        "print(list(squared))  # Output: [1, 4, 9, 16]\n",
        "\n",
        "\"\"\"\n",
        "10. What is the difference between `map()`, `reduce()`, and `filter()` functions in Python?\n",
        "\"\"\"\n",
        "from functools import reduce\n",
        "nums = [1, 2, 3, 4]\n",
        "\n",
        "# map applies a function to all items\n",
        "squared = map(lambda x: x**2, nums)\n",
        "print(list(squared))  # Output: [1, 4, 9, 16]\n",
        "\n",
        "# reduce combines items into a single value\n",
        "summed = reduce(lambda x, y: x + y, nums)\n",
        "print(summed)  # Output: 10\n",
        "\n",
        "# filter selects items based on a condition\n",
        "filtered = filter(lambda x: x % 2 == 0, nums)\n",
        "print(list(filtered))  # Output: [2, 4]\n",
        "\n",
        "\"\"\"\n",
        "11. Using pen & paper, write the internal mechanism for sum operation using reduce function on the list [47, 11, 42, 13].\n",
        "\"\"\"\n",
        "\n",
        "from functools import reduce\n",
        "nums = [47, 11, 42, 13]\n",
        "sum_result = reduce(lambda x, y: x + y, nums)\n",
        "print(sum_result)  # Output: 113\n"
      ]
    },
    {
      "cell_type": "code",
      "source": [
        " \"\"\"\n",
        " 1. Write a Python function that takes a list of numbers as input and returns the sum of all even numbers in the list.\n",
        "\"\"\"\n",
        "def sum_of_even_numbers(numbers):\n",
        "\n",
        "    even_sum = 0\n",
        "    for num in numbers:\n",
        "        if num % 2 == 0:\n",
        "            even_sum += num\n",
        "    return even_sum\n",
        "\n",
        "example_list = [10, 15, 20, 25, 30]\n",
        "result = sum_of_even_numbers(example_list)\n",
        "print(f\"The sum of all even numbers: {result}\")\n",
        "\n",
        "\n",
        "\n",
        "\n"
      ],
      "metadata": {
        "colab": {
          "base_uri": "https://localhost:8080/"
        },
        "id": "lUdxSo6Ifi8H",
        "outputId": "ef4aa660-531a-4bfe-f132-629b819e1aff"
      },
      "execution_count": null,
      "outputs": [
        {
          "output_type": "stream",
          "name": "stdout",
          "text": [
            "The sum of all even numbers: 60\n"
          ]
        }
      ]
    },
    {
      "cell_type": "code",
      "source": [
        "\"\"\" 2.  Create a Python function that accepts a string and returns the reverse of that string.\n",
        "\n",
        "\"\"\"\n",
        "\n",
        "def accept(input_string):\n",
        "  return input_string[::-1]\n",
        "\n",
        "accept(\"radhen\")\n"
      ],
      "metadata": {
        "colab": {
          "base_uri": "https://localhost:8080/",
          "height": 36
        },
        "id": "0fI69r-ekTCs",
        "outputId": "98c4b691-66f8-47ec-841d-5e4f8c519743"
      },
      "execution_count": null,
      "outputs": [
        {
          "output_type": "execute_result",
          "data": {
            "text/plain": [
              "'nehdar'"
            ],
            "application/vnd.google.colaboratory.intrinsic+json": {
              "type": "string"
            }
          },
          "metadata": {},
          "execution_count": 24
        }
      ]
    },
    {
      "cell_type": "code",
      "source": [
        "\"\"\"3. Implement a Python function that takes a list of integers and returns a new list containing the squares of each number. \"\"\"\n",
        "\n",
        "def square_numbers(numbers):\n",
        "\n",
        "    return [num ** 2 for num in numbers]\n",
        "\n",
        "example_list = [1, 2, 3, 4, 5]\n",
        "result = square_numbers(example_list)\n",
        "print(f\"The list of squared numbers: {result}\")\n"
      ],
      "metadata": {
        "colab": {
          "base_uri": "https://localhost:8080/"
        },
        "id": "FgxLDlLln1KY",
        "outputId": "bd206021-396b-49a8-ca3e-adc1eed55092"
      },
      "execution_count": null,
      "outputs": [
        {
          "output_type": "stream",
          "name": "stdout",
          "text": [
            "The list of squared numbers: [1, 4, 9, 16, 25]\n"
          ]
        }
      ]
    },
    {
      "cell_type": "code",
      "source": [
        "\"\"\"4. Write a Python function that checks if a given number is prime or not from 1 to 200. \"\"\"\n",
        "\n",
        "def is_prime(number):\n",
        "\n",
        "    if number <= 1:  # Numbers less than or equal to 1 are not prime\n",
        "        return print(\"not prime\")\n",
        "    for i in range(2, int(number ** 0.5) + 1):  # Check divisors up to the square root\n",
        "        if number % i == 0:\n",
        "            return print(\"not prime\")\n",
        "    return print(\"yes, prime number\")\n",
        "is_prime(5)\n"
      ],
      "metadata": {
        "colab": {
          "base_uri": "https://localhost:8080/"
        },
        "id": "Myc1L-qXruMM",
        "outputId": "666cd956-b16a-4dce-d2fb-ff913d11c9a3"
      },
      "execution_count": null,
      "outputs": [
        {
          "output_type": "stream",
          "name": "stdout",
          "text": [
            "yes, prime number\n"
          ]
        }
      ]
    },
    {
      "cell_type": "code",
      "source": [
        "\"\"\" 5. Create an iterator class in Python that generates the Fibonacci sequence up to a specified number of terms. \"\"\"\n",
        "\n",
        "fibonacci = lambda n: n if n <= 1 else fibonacci(n-1) + fibonacci(n-2)\n",
        "sequence = [fibonacci(i) for i in range(10)]\n",
        "print(sequence)\n"
      ],
      "metadata": {
        "colab": {
          "base_uri": "https://localhost:8080/"
        },
        "id": "hQdoUQMUs8CX",
        "outputId": "0d2f0dc4-8967-4a96-d52e-45b8fd9d8db2"
      },
      "execution_count": null,
      "outputs": [
        {
          "output_type": "stream",
          "name": "stdout",
          "text": [
            "[0, 1, 1, 2, 3, 5, 8, 13, 21, 34]\n"
          ]
        }
      ]
    },
    {
      "cell_type": "code",
      "source": [
        "\"\"\"6. Write a generator function in Python that yields the powers of 2 up to a given exponent.\"\"\"\n",
        "\n",
        "def numm(n):\n",
        "  for i in range(n+1):\n",
        "    yield 2**i\n",
        "for valu in numm(5):\n",
        "  print(valu)\n",
        "\n"
      ],
      "metadata": {
        "colab": {
          "base_uri": "https://localhost:8080/"
        },
        "id": "avP1HKw7tTyN",
        "outputId": "684e214b-d223-4f8b-eddb-d5589d5dca81"
      },
      "execution_count": null,
      "outputs": [
        {
          "output_type": "stream",
          "name": "stdout",
          "text": [
            "1\n",
            "2\n",
            "4\n",
            "8\n",
            "16\n",
            "32\n"
          ]
        }
      ]
    },
    {
      "cell_type": "code",
      "source": [
        "# 7. Implement a generator function that reads a file line by line and yields each line as a string\n",
        "\n"
      ],
      "metadata": {
        "id": "chUlgO37n7LB"
      },
      "execution_count": null,
      "outputs": []
    },
    {
      "cell_type": "code",
      "source": [
        "\"\"\"8. Use a lambda function in Python to sort a list of tuples based on the second element of each tuple\"\"\"\n",
        "\n",
        "my_list = [(1, 4), (2, 3), (3, 2), (4, 1)]\n",
        "\n",
        "# Sorting the list based on the second element of each tuple using a lambda function\n",
        "sorted_list = sorted(my_list, key=lambda x: x[1])\n",
        "\n",
        "print(sorted_list)\n"
      ],
      "metadata": {
        "colab": {
          "base_uri": "https://localhost:8080/"
        },
        "id": "sS5Ryq5j1KCK",
        "outputId": "14aee671-504a-4328-8809-7c931def497a"
      },
      "execution_count": null,
      "outputs": [
        {
          "output_type": "stream",
          "name": "stdout",
          "text": [
            "[(4, 1), (3, 2), (2, 3), (1, 4)]\n"
          ]
        }
      ]
    },
    {
      "cell_type": "code",
      "source": [
        "# 9. Write a Python program that uses `map()` to convert a list of temperatures from Celsius to Fahrenheit.\n",
        "\n",
        "celsius = [ 20, 25,30,27,10]\n",
        "\n",
        "def temp(celsius):\n",
        "  tem = list(map(lambda x: (x*1.8)+32,celsius))\n",
        "  print(tem)\n",
        "\n",
        "temp(celsius)\n"
      ],
      "metadata": {
        "colab": {
          "base_uri": "https://localhost:8080/"
        },
        "id": "88uDVgJXhshQ",
        "outputId": "8ef777dc-e12e-424c-8709-fc4f26f3419c"
      },
      "execution_count": null,
      "outputs": [
        {
          "output_type": "stream",
          "name": "stdout",
          "text": [
            "[68.0, 77.0, 86.0, 80.6, 50.0]\n"
          ]
        }
      ]
    },
    {
      "cell_type": "code",
      "source": [
        "# 10. Create a Python program that uses `filter()` to remove all the vowels from a given string.\n",
        "\n",
        "in_string = \" radhenborad \"\n",
        "\n",
        "def radhe(in_string):\n",
        "  vowels =\"aeiouAEIOU\"\n",
        "\n",
        "  print( ''.join(filter(lambda x: x not in vowels ,in_string)))\n",
        "\n",
        "\n",
        "radhe(in_string)\n"
      ],
      "metadata": {
        "colab": {
          "base_uri": "https://localhost:8080/"
        },
        "id": "sF9G9jp_TVbA",
        "outputId": "79395317-211a-45ed-8488-8bca2f76159e"
      },
      "execution_count": null,
      "outputs": [
        {
          "output_type": "stream",
          "name": "stdout",
          "text": [
            " rdhnbrd \n"
          ]
        }
      ]
    },
    {
      "cell_type": "code",
      "source": [
        "# 11) Imagine an accounting routine used in a book shop. It works on a list with sublists, which look like this:\n",
        "\n",
        "orders = [\n",
        "    [34587, \"Learning Python, Mark Lutz\", 4, 40.95],\n",
        "    [98762, \"Programming Python, Mark Lutz\", 5, 56.80],\n",
        "    [77226, \"Head First Python, Paul Barry\", 3, 32.95],\n",
        "    [88112, \"Einführung in Python3, Bernd Klein\", 3, 24.99]\n",
        "]\n",
        "\n",
        "def radhen(orders):\n",
        "\n",
        "    return list(map(lambda order : (order[0],order[2]* order[3] +( 10 if order[2]* order[3]<100 else 0))  , orders))\n",
        "\n",
        "print(radhen(orders))\n"
      ],
      "metadata": {
        "colab": {
          "base_uri": "https://localhost:8080/"
        },
        "id": "T6nLNWXRVCTt",
        "outputId": "b2948a9d-9cb7-40f5-e1ab-aeba73c4d033"
      },
      "execution_count": null,
      "outputs": [
        {
          "output_type": "stream",
          "name": "stdout",
          "text": [
            "[(34587, 163.8), (98762, 284.0), (77226, 108.85000000000001), (88112, 84.97)]\n"
          ]
        }
      ]
    }
  ]
}