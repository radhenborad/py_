{
  "nbformat": 4,
  "nbformat_minor": 0,
  "metadata": {
    "colab": {
      "provenance": []
    },
    "kernelspec": {
      "name": "python3",
      "display_name": "Python 3"
    },
    "language_info": {
      "name": "python"
    }
  },
  "cells": [
    {
      "cell_type": "code",
      "source": [
        "# Object-Oriented Programming (OOP) Questions in Python\n",
        "\n",
        "# 1. What is Object-Oriented Programming (OOP)?\n",
        "# Object-Oriented Programming (OOP) is a programming paradigm based on the concept of objects, which can contain data in the form of attributes (variables) and code in the form of methods (functions). It enables modularity, reusability, and abstraction.\n",
        "\n",
        "# 2. What is a class in OOP?\n",
        "# A class in OOP is a blueprint or template for creating objects. It defines the attributes and behaviors (methods) that the objects created from the class will have.\n",
        "\n",
        "# 3. What is an object in OOP?\n",
        "# An object is an instance of a class. It represents a specific entity with attributes and behaviors defined by its class.\n",
        "\n",
        "# 4. What is the difference between abstraction and encapsulation?\n",
        "# - Abstraction focuses on hiding the complexity of a system by exposing only the essential details.\n",
        "# - Encapsulation focuses on bundling data and methods together and restricting access to them to protect the integrity of the data.\n",
        "\n",
        "# 5. What are dunder methods in Python?\n",
        "# Dunder (double underscore) methods are special methods in Python that start and end with double underscores (e.g., `__init__`, `__str__`). They are used to define or customize the behavior of built-in operations for user-defined classes.\n",
        "\n",
        "# 6. Explain the concept of inheritance in OOP.\n",
        "# Inheritance is a mechanism where a class (child or derived class) can inherit attributes and methods from another class (parent or base class). It promotes code reuse and the creation of hierarchical relationships.\n",
        "\n",
        "# 7. What is polymorphism in OOP?\n",
        "# Polymorphism allows objects of different classes to be treated as objects of a common superclass. It enables the same method or operation to behave differently based on the object invoking it.\n",
        "\n",
        "# 8. How is encapsulation achieved in Python?\n",
        "# Encapsulation is achieved by using access modifiers:\n",
        "# - Public (default): Accessible from anywhere.\n",
        "# - Protected (prefix `_`): Accessible within the class and its subclasses.\n",
        "# - Private (prefix `__`): Accessible only within the class.\n",
        "\n",
        "# 9. What is a constructor in Python?\n",
        "# A constructor is a special method named `__init__` in Python. It is automatically called when an object is created and is used to initialize the object's attributes.\n",
        "\n",
        "# 10. What are class and static methods in Python?\n",
        "# - Class methods (decorated with `@classmethod`) are methods that operate on the class rather than an instance. They receive the class as their first argument (usually named `cls`).\n",
        "# - Static methods (decorated with `@staticmethod`) are methods that do not operate on the instance or the class. They behave like regular functions but belong to the class's namespace.\n",
        "\n",
        "# 11. What is method overloading in Python?\n",
        "# Python does not support method overloading directly. However, similar functionality can be achieved using default arguments or variable-length arguments (`*args` and `**kwargs`) in methods.\n",
        "\n",
        "# 12. What is method overriding in OOP?\n",
        "# Method overriding occurs when a subclass provides a specific implementation of a method already defined in its parent class. The overriding method must have the same name, parameters, and return type.\n",
        "\n",
        "# 13. What is a property decorator in Python?\n",
        "# The `@property` decorator is used to create getter methods for class attributes, allowing them to be accessed as properties instead of calling methods.\n",
        "\n",
        "# 14. Why is polymorphism important in OOP?\n",
        "# Polymorphism is important because it allows code to work with objects of different types through a common interface, enabling flexibility and scalability.\n",
        "\n",
        "# 15. What is an abstract class in Python?\n",
        "# An abstract class in Python is a class that cannot be instantiated. It is defined using the `ABC` module and may contain one or more abstract methods, which must be implemented by its subclasses.\n",
        "\n",
        "# 16. What are the advantages of OOP?\n",
        "# - Modularity\n",
        "# - Code Reusability\n",
        "# - Abstraction\n",
        "# - Encapsulation\n",
        "# - Easy Maintenance\n",
        "# - Scalability\n",
        "\n",
        "# 17. What is the difference between a class variable and an instance variable?\n",
        "# - Class variables are shared among all instances of the class.\n",
        "# - Instance variables are specific to each instance and hold data unique to that instance.\n",
        "\n",
        "# 18. What is multiple inheritance in Python?\n",
        "# Multiple inheritance is a feature in Python where a class can inherit from more than one base class.\n",
        "\n",
        "# 19. Explain the purpose of `__str__` and `__repr__` methods in Python.\n",
        "# - `__str__`: Returns a string representation of an object, primarily for end-users.\n",
        "# - `__repr__`: Returns a string representation of an object, primarily for developers and debugging.\n",
        "\n",
        "# 20. What is the significance of the `super()` function in Python?\n",
        "# The `super()` function is used to call a method from the parent class, allowing access to overridden methods in a subclass.\n",
        "\n",
        "# 21. What is the significance of the `__del__` method in Python?\n",
        "# The `__del__` method is a destructor in Python, called when an object is about to be destroyed. It is used for cleanup tasks.\n",
        "\n",
        "# 22. What is the difference between `@staticmethod` and `@classmethod` in Python?\n",
        "# - `@staticmethod`: Does not take `cls` or `self` as its first argument and is independent of the class or instance.\n",
        "# - `@classmethod`: Takes `cls` as its first argument and operates on the class rather than an instance.\n",
        "\n",
        "# 23. How does polymorphism work in Python with inheritance?\n",
        "# Polymorphism allows methods in derived classes to override methods in the base class. It ensures the appropriate method is called based on the object type at runtime.\n",
        "\n",
        "# 24. What is method chaining in Python OOP?\n",
        "# Method chaining is the practice of calling multiple methods on the same object in a single statement. This is achieved by having methods return `self`.\n",
        "\n",
        "# 25. What is the purpose of the `__call__` method in Python?\n",
        "# The `__call__` method allows an object to be called as if it were a function.\n",
        "\n",
        "# Example of `__call__` method:\n",
        "\n",
        "class Example:\n",
        "    def __init__(self, value):\n",
        "        self.value = value\n",
        "\n",
        "    def __call__(self, x):\n",
        "        return self.value * x\n",
        "\n",
        "# Create an object of the class\n",
        "obj = Example(10)\n",
        "\n",
        "# Use the object as a function\n",
        "result = obj(5)  # This calls the `__call__` method\n",
        "print(result)  # Output: 50\n"
      ],
      "metadata": {
        "id": "qnrEkvD0XM8X"
      },
      "execution_count": null,
      "outputs": []
    },
    {
      "cell_type": "code",
      "execution_count": null,
      "metadata": {
        "colab": {
          "base_uri": "https://localhost:8080/"
        },
        "id": "6vR8gcNsafdZ",
        "outputId": "7f731c2c-7463-4711-8d65-eadf2016e96d"
      },
      "outputs": [
        {
          "output_type": "stream",
          "name": "stdout",
          "text": [
            "generic\n",
            "Bark\n"
          ]
        }
      ],
      "source": [
        "# 1. Create a parent class Animal with a method speak() that prints a generic message. Create a child class Dog that overrides the speak() method to print \"Bark!\".\n",
        "\n",
        "class animal:\n",
        "  def speak(self):\n",
        "    print(\"generic\")\n",
        "class dog(animal):\n",
        "  def speak(self):\n",
        "    print(\"Bark\")\n",
        "\n",
        "\n",
        "obj1 = animal()\n",
        "obj1.speak()\n",
        "\n",
        "obj = dog()\n",
        "obj.speak()\n"
      ]
    },
    {
      "cell_type": "code",
      "source": [
        "# 2 Write a program to create an abstract class Shape with a method area(). Derive classes Circle and Rectangle from it and implement the area() method in both.\n",
        "\n",
        "from abc import ABC, abstractmethod\n",
        "\n",
        "# Define the abstract class\n",
        "class Shape(ABC):\n",
        "    @abstractmethod\n",
        "    def area(self):\n",
        "        pass\n",
        "class circle(Shape):\n",
        "  def __init__(self,radius):\n",
        "    self.radius = radius\n",
        "  def area(self):\n",
        "    return 3.14*self.radius*self.radius\n",
        "\n",
        "class Rectangle(Shape):\n",
        "  def __init__(self,l,h):\n",
        "    self.l= l\n",
        "    self.h= h\n",
        "  def area(self):\n",
        "    return self.l*self.h\n",
        "\n",
        "obj=circle(5)\n",
        "print(obj.area())\n",
        "\n",
        "obj1=Rectangle(5,5)\n",
        "print(obj1.area())\n"
      ],
      "metadata": {
        "colab": {
          "base_uri": "https://localhost:8080/"
        },
        "id": "FDvVcMuCdtnD",
        "outputId": "b263b515-e26d-4a65-ccf3-65bcda812d41"
      },
      "execution_count": null,
      "outputs": [
        {
          "output_type": "stream",
          "name": "stdout",
          "text": [
            "78.5\n",
            "25\n"
          ]
        }
      ]
    },
    {
      "cell_type": "code",
      "source": [
        "#3. Implement a multi-level inheritance scenario where a class Vehicle has an attribute type. Derive a class Car and further derive a class ElectricCar that adds a battery attribute.\n",
        "\n",
        "class vehicle:\n",
        "  def __init__(self,car_detail):\n",
        "    self.car_detail = car_detail\n",
        "  def cares(self):\n",
        "    print(f\"this is {self.car_detail} car\")\n",
        "\n",
        "\n",
        "class car(vehicle):\n",
        "\n",
        "  def __init__(self,make,year,model):\n",
        "    self.make = make\n",
        "    self.year = year\n",
        "    self.model = model\n",
        "  def get_detail(self):\n",
        "    print(f\"make in {self.make} , year is {self.year}, model is {self.model}\")\n",
        "\n",
        "\n",
        "class electricCar(car):\n",
        "  def __init__(self,betery_type,bettery_cap):\n",
        "    self.betery_type = betery_type\n",
        "    self.bettery_cap = bettery_cap\n",
        "\n",
        "  def get_bettery_type(self):\n",
        "    print(f\"bettry type :{ self.betery_type}\")\n",
        "  def get_bettery_cap(self):\n",
        "    print(f\"bettry capisity is {self.bettery_cap}\")\n",
        "\n",
        "\n",
        "obj = vehicle(\"toyota\")\n",
        "obj.cares()\n",
        "\n",
        "obj1= car(2003,500,4555)\n",
        "obj1.get_detail()\n",
        "\n",
        "obj3=electricCar(\"ethenol\",\"4000mha\")\n",
        "obj3.get_bettery_type()\n",
        "\n",
        "obj3.get_bettery_cap()\n",
        "\n"
      ],
      "metadata": {
        "id": "icEeRA8T0Vti",
        "colab": {
          "base_uri": "https://localhost:8080/"
        },
        "outputId": "f2117019-53fb-46a1-dba0-6394bd0283ea"
      },
      "execution_count": 18,
      "outputs": [
        {
          "output_type": "stream",
          "name": "stdout",
          "text": [
            "this is toyota car\n",
            "make in 2003 , year is 500, model is 4555\n",
            "bettry type :ethenol\n",
            "bettry capisity is 4000mha\n"
          ]
        }
      ]
    },
    {
      "cell_type": "code",
      "source": [
        "# 5 Write a program to demonstrate encapsulation by creating a class BankAccount with private attributes balance and methods to deposit, withdraw, and check balance.\n",
        "class BankAccount:\n",
        "  def __init__(self,initial_balance = 0):\n",
        "    self.__balance = initial_balance\n",
        "\n",
        "\n",
        "\n",
        "  def deposit(self,amount):\n",
        "    if amount >0 :\n",
        "      self.__balance += amount\n",
        "      print(f\"deposit is {amount} and new balance is {self.__balance}\")\n",
        "\n",
        "  def withdraw(self,amount):\n",
        "     if amount > 0:\n",
        "            if amount <= self.__balance:\n",
        "                self.__balance -= amount\n",
        "                print(f\"Withdrew: {amount}. Remaining Balance: {self.__balance}\")\n",
        "            else:\n",
        "                print(\"Insufficient funds.\")\n",
        "     else:\n",
        "       print(\"Withdrawal amount must be positive.\")\n",
        "\n",
        "  def check_balance(self):\n",
        "        print(f\"Current Balance: {self.__balance}\")\n",
        "\n",
        "\n",
        "account = BankAccount(500)  # Initial balance is 500\n",
        "\n",
        "account.check_balance()  # Check initial balance\n",
        "account.deposit(200)     # Deposit money\n",
        "account.withdraw(100)    # Withdraw money\n",
        "\n",
        "account.check_balance()  # Final balance\n",
        "\n",
        "\n",
        "\n",
        "\n",
        "\n",
        "\n",
        "\n",
        "\n"
      ],
      "metadata": {
        "colab": {
          "base_uri": "https://localhost:8080/"
        },
        "id": "f1Ziycbd_Brp",
        "outputId": "d51190c4-9638-4672-995a-0dd71b128eb4"
      },
      "execution_count": 28,
      "outputs": [
        {
          "output_type": "stream",
          "name": "stdout",
          "text": [
            "Current Balance: 500\n",
            "deposit is 200 and new balance is 700\n",
            "Withdrew: 100. Remaining Balance: 600\n",
            "Current Balance: 600\n"
          ]
        }
      ]
    },
    {
      "cell_type": "code",
      "source": [
        "# 6 Demonstrate runtime polymorphism using a method play() in a base class Instrument. Derive classes Guitar and Piano that implement their own version of play()."
      ],
      "metadata": {
        "id": "7DEyVUXdK8gw"
      },
      "execution_count": null,
      "outputs": []
    },
    {
      "cell_type": "code",
      "source": [
        "# 7 Create a class MathOperations with a class method add_numbers() to add two numbers and a static method subtract_numbers() to subtract two numbers.\n",
        "\n",
        "class MathOperations:\n",
        "  @classmethod\n",
        "  def add_numbers(cls,num1,num2):\n",
        "    return num1 + num2\n",
        "\n",
        "  def subtract_numbers(self,num3,num4):\n",
        "     return num3 - num4\n",
        "\n",
        "math = MathOperations()\n",
        "\n",
        "print(math.add_numbers(5,10))\n",
        "\n",
        "print(math.subtract_numbers(6,7))"
      ],
      "metadata": {
        "colab": {
          "base_uri": "https://localhost:8080/"
        },
        "id": "JEmGDSEuMZH6",
        "outputId": "68f47a74-7b64-4d02-f087-53487302cab4"
      },
      "execution_count": 40,
      "outputs": [
        {
          "output_type": "stream",
          "name": "stdout",
          "text": [
            "15\n",
            "-1\n"
          ]
        }
      ]
    },
    {
      "cell_type": "code",
      "source": [
        "# 8 Implement a class Person with a class method to count the total number of persons created.\n",
        "class Student:\n",
        "\n",
        "  total_students = 0\n",
        "  def __init__(self, name):\n",
        "    self.name = name\n",
        "    Student.total_students += 1\n",
        "\n",
        "  @classmethod\n",
        "  def get_total_students(cls):\n",
        "    return cls.total_students\n",
        "\n",
        "\n",
        "student1 = Student(\"radhen\")\n",
        "student2 = Student (\"Borad\")\n",
        "# Accessing the class method\n",
        "print(\"Total students:\", Student.get_total_students())\n",
        "\n"
      ],
      "metadata": {
        "colab": {
          "base_uri": "https://localhost:8080/"
        },
        "id": "fBUc9-9wOoEh",
        "outputId": "08dbd012-b803-4e2b-9f9b-ecda240bcd64"
      },
      "execution_count": 42,
      "outputs": [
        {
          "output_type": "stream",
          "name": "stdout",
          "text": [
            "Total students: 2\n"
          ]
        }
      ]
    },
    {
      "cell_type": "code",
      "source": [
        "# 9 Write a class Fraction with attributes numerator and denominator. Override the str method to display the fraction as \"numerator/denominator\".\n",
        "\n",
        "class Fraction:\n",
        "  def __init__(self,numerator,denomonater):\n",
        "    self.numerator = numerator\n",
        "    self.denomonater = denomonater\n",
        "  def __str__(self):\n",
        "    return (f\"{self.numerator}/{self.denomonater} \")\n",
        "f1 = Fraction(5,7)\n",
        "print(f1)\n",
        "\n",
        "\n",
        "\n",
        "\n"
      ],
      "metadata": {
        "colab": {
          "base_uri": "https://localhost:8080/"
        },
        "id": "FZwR1URN1ikO",
        "outputId": "3022e221-8c54-42d6-f204-7d3e8ffeb210"
      },
      "execution_count": 5,
      "outputs": [
        {
          "output_type": "stream",
          "name": "stdout",
          "text": [
            "5/7 \n"
          ]
        }
      ]
    },
    {
      "cell_type": "code",
      "source": [
        "# 10 Demonstrate operator overloading by creating a class Vector and overriding the add method to add two vectors.\n",
        "\n",
        "class vector:\n",
        "  def __init__(self,x,y):\n",
        "    self.x=x\n",
        "    self.y=y\n",
        "\n",
        "  def __add__(self,other):\n",
        "    return vector(self.x + other.x,self.y + other.y)\n",
        "\n",
        "  def __str__(self):\n",
        "    return (f\"{self.x ,self.y}\")\n",
        "\n",
        "v1 = vector(5,3)\n",
        "v2 = vector(5,3)\n",
        "\n",
        "v= v1+v2\n",
        "\n",
        "print(v)"
      ],
      "metadata": {
        "colab": {
          "base_uri": "https://localhost:8080/"
        },
        "id": "gryqlN2l5f3P",
        "outputId": "b5459d16-5265-40f4-8571-78e379412d37"
      },
      "execution_count": 8,
      "outputs": [
        {
          "output_type": "stream",
          "name": "stdout",
          "text": [
            "(10, 6)\n"
          ]
        }
      ]
    },
    {
      "cell_type": "code",
      "source": [
        "# 11 Create a class Person with attributes name and age. Add a method greet() that prints \"Hello, my name is {name} and I am {age} years old.\n",
        "class Person:\n",
        "    def __init__(self, name, age):\n",
        "\n",
        "        self.name = name\n",
        "        self.age = age\n",
        "\n",
        "    def greet(self):\n",
        "\n",
        "        print(f\"Hello, my name is {self.name} and I am {self.age} years old.\")\n",
        "\n",
        "\n",
        "\n",
        "person1 = Person(\"Radhen\", 25)\n",
        "person2 = Person(\"Rinjhal\", 28)\n",
        "\n",
        "person1.greet()\n",
        "person2.greet()\n"
      ],
      "metadata": {
        "id": "vZMAGAni5fzw"
      },
      "execution_count": null,
      "outputs": []
    },
    {
      "cell_type": "code",
      "source": [
        "# 12 Implement a class Student with attributes name and grades. Create a method average_grade() to compute the average of the grades.\n",
        "\n",
        "class student:\n",
        "  def __init__(self,name,grades):\n",
        "    self.name = name\n",
        "    self.grades = grades\n",
        "  def avrage_grade(self):\n",
        "     return sum(self.grades) / len(self.grades)\n",
        "\n",
        "student1 = student(\"Radhen\", [85, 90, 78, 92])\n",
        "\n",
        "print(f\"{student1.name}'s average grade: {student1.avrage_grade():}\")"
      ],
      "metadata": {
        "colab": {
          "base_uri": "https://localhost:8080/"
        },
        "id": "mGeRCuT0-efu",
        "outputId": "289ebfb2-cfab-411a-9652-3beb0e536d48"
      },
      "execution_count": 15,
      "outputs": [
        {
          "output_type": "stream",
          "name": "stdout",
          "text": [
            "Radhen's average grade: 86.25\n"
          ]
        }
      ]
    },
    {
      "cell_type": "code",
      "source": [
        "# 13. Create a class Rectangle with methods set_dimensions() to set the dimensions and area() to calculate the area.\n",
        "\n",
        "class Rectangle:\n",
        "    def __init__(self):\n",
        "\n",
        "        self.length = 0\n",
        "        self.width = 0\n",
        "\n",
        "    def set_dimensions(self, length, width):\n",
        "\n",
        "        self.length = length\n",
        "        self.width = width\n",
        "\n",
        "    def area(self):\n",
        "\n",
        "        return self.length * self.width\n",
        "\n",
        "rect = Rectangle()\n",
        "rect.set_dimensions(5, 10)  # Set length and width\n",
        "print(f\"The area of the rectangle is: {rect.area()}\")\n",
        "\n"
      ],
      "metadata": {
        "colab": {
          "base_uri": "https://localhost:8080/"
        },
        "id": "h44iDScT-yYX",
        "outputId": "d4399149-dd96-42d6-da5e-eb729f82ce3b"
      },
      "execution_count": 21,
      "outputs": [
        {
          "output_type": "stream",
          "name": "stdout",
          "text": [
            "The area of the rectangle is: 50\n"
          ]
        }
      ]
    },
    {
      "cell_type": "code",
      "source": [
        "# 14 Create a class Employee with a method calculate_salary() that computes the salary based on hours worked and hourly rate. Create a derived class Manager that adds a bonus to the salary.\n",
        "\n",
        "class employee:\n",
        "  def __init__(self,hours,pay):\n",
        "    self.hours =  hours\n",
        "    self.pay = pay\n",
        "  def calculate_salary(self):\n",
        "    return self.pay*self.hours\n",
        "\n",
        "class manager(employee):\n",
        "  def __init__(self,hours,pay,bonus=0):\n",
        "    super().__init__(hours,pay)\n",
        "    self.bonus= bonus\n",
        "  def add_bonus(self):\n",
        "    basce_salary = super().calculate_salary()\n",
        "    return basce_salary + self.bonus\n",
        "\n",
        "\n",
        "\n",
        "f2 = manager(50,20)\n",
        "f2.add_bonus()"
      ],
      "metadata": {
        "colab": {
          "base_uri": "https://localhost:8080/"
        },
        "id": "vSM8srijAvvn",
        "outputId": "42f049e3-9874-4ea0-bc11-449cc952d8f4"
      },
      "execution_count": 9,
      "outputs": [
        {
          "output_type": "execute_result",
          "data": {
            "text/plain": [
              "1000"
            ]
          },
          "metadata": {},
          "execution_count": 9
        }
      ]
    },
    {
      "cell_type": "code",
      "source": [
        "# 15 Create a class Product with attributes name, price, and quantity. Implement a method total_price() that calculates the total price of the product.\n",
        "class product:\n",
        "  def __init__(self,name,price,quantity):\n",
        "    self.name= name\n",
        "    self.price= price\n",
        "    self.quantity = quantity\n",
        "\n",
        "  def total_price(self):\n",
        "    return self.quantity* self.price\n",
        "\n",
        "product1= product(\"butter\",20,3)\n",
        "\n",
        "print(f\"total price for {product1.name}: {product1.total_price()}\")\n"
      ],
      "metadata": {
        "colab": {
          "base_uri": "https://localhost:8080/"
        },
        "id": "3HlGmPKUMyaY",
        "outputId": "3c2d4d42-0610-491c-d3e9-bf208d9e35d6"
      },
      "execution_count": 13,
      "outputs": [
        {
          "output_type": "stream",
          "name": "stdout",
          "text": [
            "total price for butter: 60\n"
          ]
        }
      ]
    },
    {
      "cell_type": "code",
      "source": [
        "# 16 Create a class Animal with an abstract method sound(). Create two derived classes Cow and Sheep that implement the sound() method.\n",
        "from abc import ABC, abstractmethod\n",
        "\n",
        "class Animal(ABC):\n",
        "    @abstractmethod\n",
        "    def sound(self):\n",
        "\n",
        "        pass\n",
        "\n",
        "\n",
        "class Cow(Animal):\n",
        "    def sound(self):\n",
        "\n",
        "        return \"Moo\"\n",
        "\n",
        "\n",
        "class Sheep(Animal):\n",
        "    def sound(self):\n",
        "\n",
        "        return \"Baa\"\n",
        "\n",
        "\n",
        "\n",
        "cow = Cow()\n",
        "sheep = Sheep()\n",
        "\n",
        "print(f\"The cow says: {cow.sound()}\")\n",
        "print(f\"The sheep says: {sheep.sound()}\")\n",
        "\n",
        ""
      ],
      "metadata": {
        "colab": {
          "base_uri": "https://localhost:8080/"
        },
        "id": "6cdsks9HQQgR",
        "outputId": "f9ce3c5b-6cb4-4eb8-a6c6-fc37f5eafc62"
      },
      "execution_count": 14,
      "outputs": [
        {
          "output_type": "stream",
          "name": "stdout",
          "text": [
            "The cow says: Moo\n",
            "The sheep says: Baa\n"
          ]
        }
      ]
    },
    {
      "cell_type": "code",
      "source": [
        "# 17. Create a class Book with attributes title, author, and year_published. Add a method get_book_info() that returns a formatted string with the book's details.\n",
        "\n",
        "class Book:\n",
        "  def __init__(self,title,author,year_published):\n",
        "    self.title = title\n",
        "    self.author = author\n",
        "    self.year_published =year_published\n",
        "\n",
        "  def get_book_info(self):\n",
        "    return (f\"Title :{self.title} Author :{self.author} Punlished:{self.year_published}\")\n",
        "\n",
        "book1 = Book(\"gandhi\",\"nikhil\",2002)\n",
        "print(book1.get_book_info())\n",
        "\n",
        "\n",
        "\n"
      ],
      "metadata": {
        "colab": {
          "base_uri": "https://localhost:8080/"
        },
        "id": "rQ_JPIiQRlj4",
        "outputId": "b1d72ee0-0868-4b79-9be2-b7dbb8b145f1"
      },
      "execution_count": 19,
      "outputs": [
        {
          "output_type": "stream",
          "name": "stdout",
          "text": [
            "Title :gandhi Author :nikhil Punlished:2002\n"
          ]
        }
      ]
    },
    {
      "cell_type": "code",
      "source": [
        "#18  Create a class House with attributes address and price. Create a derived class Mansion that adds an attribute number_of_rooms.\n",
        "\n",
        "class House:\n",
        "  def __init__(self,address,price):\n",
        "    self.address=address\n",
        "    self.price=price\n",
        "  def get_house_info(self):\n",
        "        return f\"Address: {self.address}, Price: ${self.price}\"\n",
        "\n",
        "class Mansion(House):\n",
        "  def __init__(self, address, price, number_of_rooms):\n",
        "        super().__init__(address, price)\n",
        "        self.number_of_rooms = number_of_rooms\n",
        "  def get_mansion_info(self):\n",
        "        return f\"{self.get_house_info()}, Number of Rooms: {self.number_of_rooms}\"\n",
        "\n",
        "house = House(\"123 Elm Street\", 200000)\n",
        "mansion = Mansion(\"456 Oak Avenue\", 1000000, 15)\n",
        "\n",
        "print(house.get_house_info())\n",
        "print(mansion.get_mansion_info())"
      ],
      "metadata": {
        "colab": {
          "base_uri": "https://localhost:8080/"
        },
        "id": "TMaQ4QMMTxky",
        "outputId": "08c8d152-cf48-41ee-f53d-6f58a5670c0e"
      },
      "execution_count": 20,
      "outputs": [
        {
          "output_type": "stream",
          "name": "stdout",
          "text": [
            "Address: 123 Elm Street, Price: $200000\n",
            "Address: 456 Oak Avenue, Price: $1000000, Number of Rooms: 15\n"
          ]
        }
      ]
    }
  ]
}