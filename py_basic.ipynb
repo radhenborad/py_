{
  "nbformat": 4,
  "nbformat_minor": 0,
  "metadata": {
    "colab": {
      "provenance": []
    },
    "kernelspec": {
      "name": "python3",
      "display_name": "Python 3"
    },
    "language_info": {
      "name": "python"
    }
  },
  "cells": [
    {
      "cell_type": "markdown",
      "source": [
        "**Python Basics Questions**"
      ],
      "metadata": {
        "id": "XUveSMd1KbHT"
      }
    },
    {
      "cell_type": "markdown",
      "source": [
        "1 What is Python, and why is it popular ?\n",
        "-\n",
        "Python is a high-level, versatile programming language known for its simplicity and readability. It is popular due to its beginner-friendly syntax,libraries , and applicability in diverse fields like web development, data science, AI, and automation.\n",
        "\n",
        "2 What is an interpreter in Python ?\n",
        "- interpreter in Python is a program that directly executes Python code line by line.\n",
        "\n",
        "3 What are pre-defined keywords in Python?\n",
        "- Pre-defined keywords in Python are reserved words with special meanings that are part of the language's syntax. Examples include if, else, while, True, False, and def. These cannot be used as identifiers or variable names.\n",
        "\n",
        "4 Can keywords be used as variable names?\n",
        "- No, keywords cannot be used as variable names in Python because they are reserved by the language for specific purposes, and using them as variables would cause syntax errors.\n",
        "\n",
        "5 What is mutability in Python?\n",
        "- Mutability refers to whether an object can be modified after it is created. Mutable objects (like lists and dictionaries) can be changed, while immutable objects (like tuples and strings) cannot be altered once created.\n",
        "\n",
        "6 Why are lists mutable, but tuples are immutable?\n",
        "- Lists are mutable to allow dynamic operations like adding, removing, or changing elements. Tuples, however, are immutable to ensure data integrity and allow them to be used as keys in dictionaries or stored in sets.\n",
        "\n",
        "7 What is the difference between “==” and “is” operators in Python?\n",
        "- The == operator checks if two objects have the same value, while the is operator checks if two objects refer to the same memory location (identity).\n",
        "\n",
        "8 What are logical operators in Python?\n",
        "- Logical operators in Python are and, or, and not. They are used to combine or negate boolean expressions. For example, a and b returns True if both a and b are True.\n",
        "\n",
        "9 What is type casting in Python?\n",
        "- Type casting in Python is the process of converting one data type into another. For example, int(\"5\") converts the string \"5\" into an integer.\n",
        "\n",
        "10 What is the difference between implicit and explicit type casting?\n",
        "- Implicit type casting is performed automatically by Python (e.g., converting an integer to a float during division). Explicit type casting requires manual conversion using functions like int(), float(), or str().\n",
        "\n",
        "11 What is the purpose of conditional statements in Python?\n",
        "- Conditional statements like if, elif, and else control the flow of a program by executing code blocks based on specified conditions.\n",
        "\n",
        "12 How does the elif statement work?\n",
        "- The elif statement checks additional conditions after an if statement. If the if condition is false and an elif condition is true, the elif block executes.\n",
        "\n",
        "13 What is the difference between for and while loops?\n",
        "- A for loop iterates over a sequence (like a list or range) a specific number of times. A while loop runs as long as its condition evaluates to True, making it more flexible for indefinite iterations.\n",
        "\n",
        "\n"
      ],
      "metadata": {
        "id": "Zb6IgGxN3doQ"
      }
    },
    {
      "cell_type": "code",
      "source": [
        "'''\n",
        "\n",
        "14 Describe a scenario where a while loop is more suitable than a for loop.\n",
        "- If you want to ask a user to input their password and keep prompting until they enter the correct one,\n",
        " a while loop is ideal because you don't know how many attempts the user will need.\n",
        "'''\n",
        "password = \"secure123\"\n",
        "user_input = \"\"\n",
        "\n",
        "while user_input != password:\n",
        "    user_input = input(\"Enter your password: \")\n",
        "print(\"Access granted!\")\n",
        "\n"
      ],
      "metadata": {
        "colab": {
          "base_uri": "https://localhost:8080/"
        },
        "id": "tswaZXMtILpq",
        "outputId": "aa062e25-4756-4040-a9b6-04a81bcb54c0"
      },
      "execution_count": null,
      "outputs": [
        {
          "output_type": "stream",
          "name": "stdout",
          "text": [
            "Enter your password: secure123\n",
            "Access granted!\n"
          ]
        }
      ]
    },
    {
      "cell_type": "markdown",
      "source": [
        "**Practical Questions**"
      ],
      "metadata": {
        "id": "LWOTNVHGK0M8"
      }
    },
    {
      "cell_type": "code",
      "source": [
        "# 1 Write a Python program to print \"Hello, World!\n",
        "print(\"Hello, World!\")\n"
      ],
      "metadata": {
        "colab": {
          "base_uri": "https://localhost:8080/"
        },
        "id": "W4p7558IK742",
        "outputId": "031a5c01-b430-4953-fd13-fc0895b7dfc4"
      },
      "execution_count": null,
      "outputs": [
        {
          "output_type": "stream",
          "name": "stdout",
          "text": [
            "Hello, World!\n"
          ]
        }
      ]
    },
    {
      "cell_type": "code",
      "source": [
        "#  2 Write a Python program that displays your name and age\n",
        "\n",
        "name = \"radhen\"\n",
        "age =  22\n",
        "\n",
        "print(f\"My name is {name} and I am {age} years old.\")\n",
        "\n",
        "\n",
        "\n"
      ],
      "metadata": {
        "colab": {
          "base_uri": "https://localhost:8080/"
        },
        "id": "PD6TCJ9ELjyK",
        "outputId": "81cab3df-9f0d-477a-cc4d-70158f278f35"
      },
      "execution_count": null,
      "outputs": [
        {
          "output_type": "stream",
          "name": "stdout",
          "text": [
            "My name is radhen and I am 22 years old.\n"
          ]
        }
      ]
    },
    {
      "cell_type": "code",
      "source": [
        "# 3 Write code to print all the pre-defined keywords in Python using the keyword library.\n",
        "import keyword\n",
        "print(keyword.kwlist)\n",
        "\n"
      ],
      "metadata": {
        "colab": {
          "base_uri": "https://localhost:8080/"
        },
        "id": "1RBlKxGsMkoG",
        "outputId": "aebed7e6-971b-4101-a9c1-93c34cc0c2dc"
      },
      "execution_count": null,
      "outputs": [
        {
          "output_type": "stream",
          "name": "stdout",
          "text": [
            "['False', 'None', 'True', 'and', 'as', 'assert', 'async', 'await', 'break', 'class', 'continue', 'def', 'del', 'elif', 'else', 'except', 'finally', 'for', 'from', 'global', 'if', 'import', 'in', 'is', 'lambda', 'nonlocal', 'not', 'or', 'pass', 'raise', 'return', 'try', 'while', 'with', 'yield']\n"
          ]
        }
      ]
    },
    {
      "cell_type": "code",
      "source": [
        "# 4  Write a program that checks if a given word is a Python keyword\n",
        "\n",
        "import keyword\n",
        "\n",
        "ky = input(\"enter cheaking py ketword\")\n",
        "\n",
        "if (ky in keyword.kwlist ):\n",
        "  print(\"yes, py ketword\")\n",
        "else:\n",
        "  print(\"no, py keyword\")\n",
        "\n",
        "\n"
      ],
      "metadata": {
        "colab": {
          "base_uri": "https://localhost:8080/"
        },
        "id": "aK58D9adNULy",
        "outputId": "d7807874-5b9d-4c58-caf8-2e10e91bba25"
      },
      "execution_count": null,
      "outputs": [
        {
          "output_type": "stream",
          "name": "stdout",
          "text": [
            "enter cheaking py ketwordor\n",
            "yes, py ketword\n"
          ]
        }
      ]
    },
    {
      "cell_type": "code",
      "source": [
        "# 5 Create a list and tuple in Python, and demonstrate how attempting to change an element works differently\n",
        "\n",
        "my_list = [10, 20, 30]\n",
        "my_tuple = (10, 20, 30)\n",
        "\n",
        "my_list[1] = 40\n",
        "print(my_list)\n",
        "\n",
        "my_tuple[1] = 40\n",
        "print(my_tuple)"
      ],
      "metadata": {
        "id": "Yj1bUZFMPH1H",
        "colab": {
          "base_uri": "https://localhost:8080/",
          "height": 211
        },
        "outputId": "a4ed5063-e2a1-4e02-e746-91474eb580b0"
      },
      "execution_count": null,
      "outputs": [
        {
          "output_type": "stream",
          "name": "stdout",
          "text": [
            "[10, 40, 30]\n"
          ]
        },
        {
          "output_type": "error",
          "ename": "TypeError",
          "evalue": "'tuple' object does not support item assignment",
          "traceback": [
            "\u001b[0;31m---------------------------------------------------------------------------\u001b[0m",
            "\u001b[0;31mTypeError\u001b[0m                                 Traceback (most recent call last)",
            "\u001b[0;32m<ipython-input-20-8c14697eb55e>\u001b[0m in \u001b[0;36m<cell line: 9>\u001b[0;34m()\u001b[0m\n\u001b[1;32m      7\u001b[0m \u001b[0mprint\u001b[0m\u001b[0;34m(\u001b[0m\u001b[0mmy_list\u001b[0m\u001b[0;34m)\u001b[0m\u001b[0;34m\u001b[0m\u001b[0;34m\u001b[0m\u001b[0m\n\u001b[1;32m      8\u001b[0m \u001b[0;34m\u001b[0m\u001b[0m\n\u001b[0;32m----> 9\u001b[0;31m \u001b[0mmy_tuple\u001b[0m\u001b[0;34m[\u001b[0m\u001b[0;36m1\u001b[0m\u001b[0;34m]\u001b[0m \u001b[0;34m=\u001b[0m \u001b[0;36m40\u001b[0m\u001b[0;34m\u001b[0m\u001b[0;34m\u001b[0m\u001b[0m\n\u001b[0m\u001b[1;32m     10\u001b[0m \u001b[0mprint\u001b[0m\u001b[0;34m(\u001b[0m\u001b[0mmy_tuple\u001b[0m\u001b[0;34m)\u001b[0m\u001b[0;34m\u001b[0m\u001b[0;34m\u001b[0m\u001b[0m\n",
            "\u001b[0;31mTypeError\u001b[0m: 'tuple' object does not support item assignment"
          ]
        }
      ]
    },
    {
      "cell_type": "code",
      "source": [
        "#6  Write a function to demonstrate the behavior of mutable and immutable argument\n"
      ],
      "metadata": {
        "id": "ypdIbe1sRayk"
      },
      "execution_count": null,
      "outputs": []
    },
    {
      "cell_type": "code",
      "source": [
        "#7 Write a function to demonstrate the behavior of mutable and immutable argument\n"
      ],
      "metadata": {
        "id": "PA2FwVSgRanS"
      },
      "execution_count": null,
      "outputs": []
    },
    {
      "cell_type": "code",
      "source": [
        " #8 Write a program to demonstrate the use of logical operator\n",
        "\n",
        "\n",
        "\n",
        "\n",
        "a = 10\n",
        "b = 20\n",
        "\n",
        "# Logical AND\n",
        "if a > 5 and b > 15:\n",
        "    print(\"Both conditions are True (a > 5 AND b > 15).\")\n",
        "\n",
        "# Logical OR\n",
        "if a > 15 or b > 15:\n",
        "    print(\"At least one condition is True (a > 15 OR b > 15).\")\n",
        "\n",
        "\n",
        "\n"
      ],
      "metadata": {
        "id": "2zKQPkFcRaYU"
      },
      "execution_count": null,
      "outputs": []
    },
    {
      "cell_type": "code",
      "source": [
        "#9 Write a Python program to convert user input from string to integer, float, and boolean types\n",
        "\n",
        "user = input(\"enter string\")\n",
        "\n",
        "print(int(user))\n",
        "\n",
        "print(float(user))\n",
        "\n",
        "print(bool(user))\n"
      ],
      "metadata": {
        "colab": {
          "base_uri": "https://localhost:8080/"
        },
        "id": "NLod-SCIRetx",
        "outputId": "00e54f05-6ad6-4bd2-9065-09aad6c81d68"
      },
      "execution_count": null,
      "outputs": [
        {
          "output_type": "stream",
          "name": "stdout",
          "text": [
            "enter string2\n",
            "2\n",
            "2.0\n",
            "True\n"
          ]
        }
      ]
    },
    {
      "cell_type": "code",
      "source": [
        "#10 Write code to demonstrate type casting with list elements"
      ],
      "metadata": {
        "id": "8Yjbif1XReX8"
      },
      "execution_count": null,
      "outputs": []
    },
    {
      "cell_type": "code",
      "source": [
        " #11 Write a program that checks if a number is positive, negative, or zero\n",
        "\n",
        "user=int(input(\"enter number\"))\n",
        "\n",
        "if(0 < user):\n",
        "  print(\"number is a positive\")\n",
        "elif(0>user):\n",
        "  print(\"number is nagative\")\n",
        "else:\n",
        "  print(\"number is zero\")\n"
      ],
      "metadata": {
        "colab": {
          "base_uri": "https://localhost:8080/"
        },
        "id": "iqTwLUUdReEr",
        "outputId": "fb0b7e30-9eee-4c2a-bb82-16d6bc7e01f8"
      },
      "execution_count": null,
      "outputs": [
        {
          "output_type": "stream",
          "name": "stdout",
          "text": [
            "enter number0\n",
            "number is zero\n"
          ]
        }
      ]
    },
    {
      "cell_type": "code",
      "source": [
        "#12 Write a for loop to print numbers from 1 to 100\n",
        "\n",
        "for i in range(1,101):\n",
        "  print(i)\n"
      ],
      "metadata": {
        "colab": {
          "base_uri": "https://localhost:8080/"
        },
        "id": "nHtmz2iNRd5u",
        "outputId": "54df1d6f-01ae-4d03-ec62-0e45353693ab"
      },
      "execution_count": null,
      "outputs": [
        {
          "output_type": "stream",
          "name": "stdout",
          "text": [
            "1\n",
            "2\n",
            "3\n",
            "4\n",
            "5\n",
            "6\n",
            "7\n",
            "8\n",
            "9\n",
            "10\n",
            "11\n",
            "12\n",
            "13\n",
            "14\n",
            "15\n",
            "16\n",
            "17\n",
            "18\n",
            "19\n",
            "20\n",
            "21\n",
            "22\n",
            "23\n",
            "24\n",
            "25\n",
            "26\n",
            "27\n",
            "28\n",
            "29\n",
            "30\n",
            "31\n",
            "32\n",
            "33\n",
            "34\n",
            "35\n",
            "36\n",
            "37\n",
            "38\n",
            "39\n",
            "40\n",
            "41\n",
            "42\n",
            "43\n",
            "44\n",
            "45\n",
            "46\n",
            "47\n",
            "48\n",
            "49\n",
            "50\n",
            "51\n",
            "52\n",
            "53\n",
            "54\n",
            "55\n",
            "56\n",
            "57\n",
            "58\n",
            "59\n",
            "60\n",
            "61\n",
            "62\n",
            "63\n",
            "64\n",
            "65\n",
            "66\n",
            "67\n",
            "68\n",
            "69\n",
            "70\n",
            "71\n",
            "72\n",
            "73\n",
            "74\n",
            "75\n",
            "76\n",
            "77\n",
            "78\n",
            "79\n",
            "80\n",
            "81\n",
            "82\n",
            "83\n",
            "84\n",
            "85\n",
            "86\n",
            "87\n",
            "88\n",
            "89\n",
            "90\n",
            "91\n",
            "92\n",
            "93\n",
            "94\n",
            "95\n",
            "96\n",
            "97\n",
            "98\n",
            "99\n",
            "100\n"
          ]
        }
      ]
    },
    {
      "cell_type": "code",
      "source": [
        "#13  Write a Python program to find the sum of all even numbers between 1 and 50\n",
        "sum=0\n",
        "for i in range(2,51,2):\n",
        "  sum = i + sum\n",
        "print(sum)"
      ],
      "metadata": {
        "colab": {
          "base_uri": "https://localhost:8080/"
        },
        "id": "8VXBQKDiRdvs",
        "outputId": "0c5aea57-d6c2-40e2-fb4d-52a6ea4b9d41"
      },
      "execution_count": null,
      "outputs": [
        {
          "output_type": "stream",
          "name": "stdout",
          "text": [
            "650\n"
          ]
        }
      ]
    },
    {
      "cell_type": "code",
      "source": [
        "#14 Write a program to reverse a string using a while loop\n",
        "\n",
        "\n",
        "original_string = input(\"Enter a string: \")\n",
        "reversed_string = \"\"\n",
        "index = len(original_string) - 1\n",
        "\n",
        "\n",
        "while index >= 0:\n",
        "    reversed_string += original_string[index]\n",
        "    index -= 1\n",
        "\n",
        "print(f\"The reversed string is: {reversed_string}\")\n"
      ],
      "metadata": {
        "id": "iLY88D0LRdmq",
        "colab": {
          "base_uri": "https://localhost:8080/",
          "height": 36
        },
        "outputId": "e09a7388-80db-4530-c14f-e37de6640eac"
      },
      "execution_count": null,
      "outputs": [
        {
          "output_type": "execute_result",
          "data": {
            "text/plain": [
              "'nehdar'"
            ],
            "application/vnd.google.colaboratory.intrinsic+json": {
              "type": "string"
            }
          },
          "metadata": {},
          "execution_count": 1
        }
      ]
    },
    {
      "cell_type": "code",
      "source": [
        "#15 Write a Python program to calculate the factorial of a number provided by the user using a while loop\n",
        "\n",
        "num = int(input(\"Enter a non-negative integer: \"))\n",
        "\n",
        "if num<0:\n",
        "  print(\"factorial is not defined for negative numbers.\")\n",
        "\n",
        "factorial = 1\n",
        "i=1\n",
        "while i<= num:\n",
        "  factorial *= i\n",
        "  i+=1\n",
        "print(factorial)\n"
      ],
      "metadata": {
        "id": "yQCUv4u5RddJ",
        "colab": {
          "base_uri": "https://localhost:8080/"
        },
        "collapsed": true,
        "outputId": "33ff066d-fede-4597-8147-8bb27ba57ef2"
      },
      "execution_count": null,
      "outputs": [
        {
          "output_type": "stream",
          "name": "stdout",
          "text": [
            "Enter a non-negative integer: 1\n",
            "1\n"
          ]
        }
      ]
    }
  ]
}